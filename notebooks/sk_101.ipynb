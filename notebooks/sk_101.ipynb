{
 "cells": [
  {
   "cell_type": "code",
   "execution_count": 1,
   "metadata": {},
   "outputs": [
    {
     "name": "stdout",
     "output_type": "stream",
     "text": [
      "Name: semantic-kernelNote: you may need to restart the kernel to use updated packages.\n",
      "\n",
      "Version: 0.3.10.dev0\n",
      "Summary: \n",
      "Home-page: \n",
      "Author: Microsoft\n",
      "Author-email: SK-Support@microsoft.com\n",
      "License: \n",
      "Location: c:\\git\\dalleflask\\.venv\\lib\\site-packages\n",
      "Requires: aiofiles, numpy, openai, openapi_core, prance, pydantic, python-dotenv, regex\n",
      "Required-by: \n"
     ]
    }
   ],
   "source": [
    "%pip show semantic-kernel"
   ]
  },
  {
   "cell_type": "code",
   "execution_count": 2,
   "metadata": {},
   "outputs": [
    {
     "data": {
      "text/plain": [
       "True"
      ]
     },
     "execution_count": 2,
     "metadata": {},
     "output_type": "execute_result"
    }
   ],
   "source": [
    "# https://github.com/microsoft/semantic-kernel/blob/main/python/README.md\n",
    "\n",
    "\n",
    "import semantic_kernel as sk\n",
    "from semantic_kernel.connectors.ai.open_ai import AzureTextCompletion, AzureChatCompletion\n",
    "\n",
    "import dotenv\n",
    "import os\n",
    "\n",
    "dotenv.load_dotenv()"
   ]
  },
  {
   "cell_type": "code",
   "execution_count": 3,
   "metadata": {},
   "outputs": [],
   "source": [
    "# create a python logger\n",
    "import logging\n",
    "logger = logging.getLogger(__name__)\n",
    "\n"
   ]
  },
  {
   "cell_type": "code",
   "execution_count": 4,
   "metadata": {},
   "outputs": [],
   "source": [
    "# get the above from os.environ.get and use provided values as defaults\n",
    "chatgpt_api_key = os.environ.get('chatgpt_api_key', '121212121212')\n",
    "chatgpt_region = os.environ.get('chatgpt_region', 'southcentralus')\n",
    "chatgpt_endpoint = os.environ.get('chatgpt_endpoint', 'https://magopenai.openai.azure.com/')\n",
    "chatgpt_api_version = os.environ.get('chatgpt_api_version', '2021-03-15-preview')\n",
    "\n",
    "\n",
    "\n",
    "# get above env variables using os.environ.get and use provided values as defaults\n",
    "gpt4_endpoint = os.environ.get('gpt4_endpoint', 'https://lnc-eastus-openai.openai.azure.com/')\n",
    "gpt4_key = os.environ.get('gpt4_key', '121221')\n",
    "gpt4_region = os.environ.get('gpt4_region', 'eastus')\n",
    "gpt4_modelid_4k = os.environ.get('gpt4_modelid_4k', 'gpt-4-0314')\n",
    "gpt4_modelid_32k = os.environ.get('gpt4_modelid_32k', 'gpt-4-32k-0314')\n",
    "gpt4_api_version = os.environ.get('gpt4_api_version', '2023-03-15-preview')"
   ]
  },
  {
   "cell_type": "code",
   "execution_count": 5,
   "metadata": {},
   "outputs": [
    {
     "data": {
      "text/plain": [
       "<semantic_kernel.kernel.Kernel at 0x1a369ccc190>"
      ]
     },
     "execution_count": 5,
     "metadata": {},
     "output_type": "execute_result"
    }
   ],
   "source": [
    "# sk.azure_openai_settings_from_dot_env()\n",
    "\n",
    "kernel = sk.Kernel(log=logger)\n",
    "kernel.add_text_completion_service(\n",
    "    \"dv\",\n",
    "    AzureTextCompletion(\n",
    "    deployment_name='davinci',\n",
    "    endpoint=chatgpt_endpoint,\n",
    "    api_key=chatgpt_api_key,\n",
    "    api_version=chatgpt_api_version,\n",
    "    logger=logger,\n",
    "    ad_auth=False,\n",
    "    )\n",
    ")\n",
    "\n",
    "\n",
    "kernel.add_chat_service(\n",
    "    \"gpt4\",\n",
    "    AzureChatCompletion(\n",
    "    deployment_name=gpt4_modelid_4k,\n",
    "    endpoint=gpt4_endpoint,\n",
    "    api_key=gpt4_key,\n",
    "    api_version=gpt4_api_version,\n",
    "    logger=logger,\n",
    "    ad_auth=False,\n",
    "    )\n",
    ")\n",
    "\n",
    "\n",
    "\n",
    "\n"
   ]
  },
  {
   "cell_type": "code",
   "execution_count": 6,
   "metadata": {},
   "outputs": [],
   "source": [
    "prompt = kernel.create_semantic_function(\"\"\"\n",
    "1) A robot may not injure a human being or, through inaction,\n",
    "allow a human being to come to harm.\n",
    "\n",
    "2) A robot must obey orders given it by human beings except where\n",
    "such orders would conflict with the First Law.\n",
    "\n",
    "3) A robot must protect its own existence as long as such protection\n",
    "does not conflict with the First or Second Law.\n",
    "\n",
    "Give me the TLDR.\"\"\")"
   ]
  },
  {
   "cell_type": "code",
   "execution_count": 7,
   "metadata": {},
   "outputs": [
    {
     "name": "stdout",
     "output_type": "stream",
     "text": [
      "\n",
      "\n",
      "Robots must not harm humans, obey orders from humans, and protect themselves as long as it does not conflict with the first two laws.\n"
     ]
    }
   ],
   "source": [
    "# kernel.set_default_text_completion_service('dv')\n",
    "\n",
    "print(prompt())\n",
    "\n",
    "# kernel.set_default_text_completion_service('gpt4')\n",
    "\n",
    "# print(prompt())"
   ]
  },
  {
   "cell_type": "code",
   "execution_count": 8,
   "metadata": {},
   "outputs": [],
   "source": [
    "pp = kernel.create_semantic_function(\"\"\"1) A robot may not injure a human being or, through inaction,\n",
    "allow a human being to come to harm.\n",
    "\n",
    "2) A robot must obey orders given it by human beings except where\n",
    "such orders would conflict with the First Law.\n",
    "\n",
    "3) A robot must protect its own existence as long as such protection\n",
    "does not conflict with the First or Second Law.\n",
    "\n",
    "Give me the TLDR.\"\"\")"
   ]
  },
  {
   "cell_type": "code",
   "execution_count": 9,
   "metadata": {},
   "outputs": [
    {
     "name": "stdout",
     "output_type": "stream",
     "text": [
      "\n",
      "\n",
      "Robots must not harm humans, obey orders from humans, and protect themselves as long as it does not conflict with the first two laws.\n"
     ]
    }
   ],
   "source": [
    "print(pp())"
   ]
  },
  {
   "cell_type": "code",
   "execution_count": 10,
   "metadata": {},
   "outputs": [
    {
     "data": {
      "text/plain": [
       "'dv'"
      ]
     },
     "execution_count": 10,
     "metadata": {},
     "output_type": "execute_result"
    }
   ],
   "source": [
    "kernel._default_text_completion_service"
   ]
  },
  {
   "cell_type": "code",
   "execution_count": 11,
   "metadata": {},
   "outputs": [
    {
     "name": "stdout",
     "output_type": "stream",
     "text": [
      "1st Law: Energy conserved; 2nd Law: Entropy increases; 3rd Law: Perfect crystal, zero Kelvin, zero entropy.\n",
      "Objects' motion depends on forces; acceleration relies on mass and force; forces occur in equal, opposite pairs.\n",
      "Masses attract inversely to distance squared.\n"
     ]
    }
   ],
   "source": [
    "kernel.set_default_text_completion_service('gpt4')\n",
    "\n",
    "# Create a reusable function with one input parameter\n",
    "summarize = kernel.create_semantic_function(\"{{$input}}\\n\\nOne line TLDR with the fewest words.\")\n",
    "\n",
    "# Summarize the laws of thermodynamics\n",
    "print(summarize(\"\"\"\n",
    "1st Law of Thermodynamics - Energy cannot be created or destroyed.\n",
    "2nd Law of Thermodynamics - For a spontaneous process, the entropy of the universe increases.\n",
    "3rd Law of Thermodynamics - A perfect crystal at zero Kelvin has zero entropy.\"\"\"))\n",
    "\n",
    "# Summarize the laws of motion\n",
    "print(summarize(\"\"\"\n",
    "1. An object at rest remains at rest, and an object in motion remains in motion at constant speed and in a straight line unless acted on by an unbalanced force.\n",
    "2. The acceleration of an object depends on the mass of the object and the amount of force applied.\n",
    "3. Whenever one object exerts a force on another object, the second object exerts an equal and opposite on the first.\"\"\"))\n",
    "\n",
    "# Summarize the law of universal gravitation\n",
    "print(summarize(\"\"\"\n",
    "Every point mass attracts every single other point mass by a force acting along the line intersecting both points.\n",
    "The force is proportional to the product of the two masses and inversely proportional to the square of the distance between them.\"\"\"))\n",
    "\n",
    "# Output:\n",
    "# > Energy conserved, entropy increases, zero entropy at 0K.\n",
    "# > Objects move in response to forces.\n",
    "# > Gravitational force between two point masses is inversely proportional to the square of the distance between them."
   ]
  },
  {
   "cell_type": "code",
   "execution_count": null,
   "metadata": {},
   "outputs": [],
   "source": [
    "# from semantic_kernel\n",
    "kernel.all_text_completion_services()"
   ]
  },
  {
   "cell_type": "code",
   "execution_count": null,
   "metadata": {},
   "outputs": [],
   "source": [
    "kernel.all_chat_services()"
   ]
  },
  {
   "cell_type": "code",
   "execution_count": null,
   "metadata": {},
   "outputs": [],
   "source": [
    "kernel.all_text_embedding_generation_services()"
   ]
  },
  {
   "cell_type": "code",
   "execution_count": 12,
   "metadata": {},
   "outputs": [],
   "source": [
    "messages=[\n",
    "    { \"role\": \"system\",    \"content\": \"You are a helpful assistant.\"},\n",
    "    { \"role\": \"user\",      \"content\": \"Who won the world series in 2020?\"},\n",
    "    { \"role\": \"assistant\", \"content\": \"The Los Angeles Dodgers won the World Series in 2020.\"},\n",
    "    { \"role\": \"user\",      \"content\": \"Where was it played?\"}\n",
    "]"
   ]
  },
  {
   "cell_type": "code",
   "execution_count": 13,
   "metadata": {},
   "outputs": [
    {
     "data": {
      "text/plain": [
       "[{'role': 'system', 'content': 'You are a helpful assistant.'},\n",
       " {'role': 'user', 'content': 'Who won the world series in 2020?'},\n",
       " {'role': 'assistant',\n",
       "  'content': 'The Los Angeles Dodgers won the World Series in 2020.'},\n",
       " {'role': 'user', 'content': 'Where was it played?'}]"
      ]
     },
     "execution_count": 13,
     "metadata": {},
     "output_type": "execute_result"
    }
   ],
   "source": [
    "messages"
   ]
  },
  {
   "cell_type": "code",
   "execution_count": 16,
   "metadata": {},
   "outputs": [],
   "source": [
    "chatGPT = kernel._default_chat_service"
   ]
  },
  {
   "cell_type": "code",
   "execution_count": 17,
   "metadata": {},
   "outputs": [
    {
     "data": {
      "text/plain": [
       "'gpt4'"
      ]
     },
     "execution_count": 17,
     "metadata": {},
     "output_type": "execute_result"
    }
   ],
   "source": [
    "chatGPT"
   ]
  },
  {
   "cell_type": "code",
   "execution_count": 18,
   "metadata": {},
   "outputs": [
    {
     "data": {
      "text/plain": [
       "str"
      ]
     },
     "execution_count": 18,
     "metadata": {},
     "output_type": "execute_result"
    }
   ],
   "source": [
    "type(chatGPT)"
   ]
  },
  {
   "cell_type": "code",
   "execution_count": 19,
   "metadata": {},
   "outputs": [],
   "source": [
    "# from semantic_kernel.kernel import ChatCompletionClientBase"
   ]
  },
  {
   "cell_type": "code",
   "execution_count": 21,
   "metadata": {},
   "outputs": [],
   "source": [
    "sk_prompt = \"\"\"\n",
    "ChatBot can have a conversation with you about any topic.\n",
    "It can give explicit instructions or say 'I don't know' if it does not have an answer.\n",
    "\n",
    "{{$history}}\n",
    "User: {{$user_input}}\n",
    "ChatBot: \"\"\""
   ]
  },
  {
   "cell_type": "code",
   "execution_count": 22,
   "metadata": {},
   "outputs": [],
   "source": [
    "chat_function = kernel.create_semantic_function(sk_prompt, \"ChatBot\", max_tokens=2000, temperature=0.7, top_p=0.5)\n"
   ]
  },
  {
   "cell_type": "code",
   "execution_count": 23,
   "metadata": {},
   "outputs": [],
   "source": [
    "context = kernel.create_new_context()\n",
    "context[\"history\"] = \"\""
   ]
  },
  {
   "cell_type": "code",
   "execution_count": 37,
   "metadata": {},
   "outputs": [
    {
     "name": "stdout",
     "output_type": "stream",
     "text": [
      "Sure, I'd be happy to help! What genre or type of book are you interested in?\n",
      "<class 'semantic_kernel.orchestration.sk_context.SKContext'>\n"
     ]
    }
   ],
   "source": [
    "context[\"user_input\"] = \"Hi, I'm looking for book suggestions\"\n",
    "bot_answer = await chat_function.invoke_async(context=context)\n",
    "print(bot_answer)\n",
    "print(type(bot_answer))"
   ]
  },
  {
   "cell_type": "code",
   "execution_count": 43,
   "metadata": {},
   "outputs": [
    {
     "name": "stdout",
     "output_type": "stream",
     "text": [
      "That's great! Science fiction is a fascinating genre that explores imaginative and futuristic concepts. Do you have any favorite science fiction books, movies, or TV shows?\n"
     ]
    }
   ],
   "source": [
    "context[\"user_input\"] = \"I like science fiction\"\n",
    "print(await chat_function.invoke_async(context=context))"
   ]
  },
  {
   "cell_type": "code",
   "execution_count": 44,
   "metadata": {},
   "outputs": [
    {
     "name": "stdout",
     "output_type": "stream",
     "text": [
      "\n",
      "User: I like science fiction\n",
      "ChatBot: That's great! Science fiction is a fascinating genre that explores imaginative and futuristic concepts. Do you have any favorite science fiction books, movies, or TV shows?\n",
      "\n"
     ]
    }
   ],
   "source": [
    "context[\"history\"] += f\"\\nUser: {context['user_input']}\\nChatBot: {bot_answer}\\n\"\n",
    "print(context[\"history\"])"
   ]
  },
  {
   "cell_type": "code",
   "execution_count": 47,
   "metadata": {},
   "outputs": [],
   "source": [
    "async def chat(input_text: str) -> None:\n",
    "    # Save new message in the context variables\n",
    "    print(f\"User: {input_text}\")\n",
    "    context[\"user_input\"] = input_text\n",
    "\n",
    "    # Process the user message and get an answer\n",
    "    answer = await chat_function.invoke_async(context=context)\n",
    "\n",
    "    # Show the response\n",
    "    print(f\"ChatBot: {answer}\")\n",
    "\n",
    "    # Append the new interaction to the chat history\n",
    "    context[\"history\"] += f\"\\nUser: {input_text}\\nChatBot: {answer}\\n\""
   ]
  },
  {
   "cell_type": "code",
   "execution_count": 48,
   "metadata": {},
   "outputs": [
    {
     "name": "stdout",
     "output_type": "stream",
     "text": [
      "User: I love history and philosophy, I'd like to learn something new about Greece, any suggestion?\n",
      "ChatBot: Sure! Ancient Greece was a highly influential civilization known for its contributions to various fields such as philosophy, science, arts, and politics. Some key figures from Ancient Greece include philosophers like Socrates, Plato, and Aristotle, who have greatly impacted Western thought. You might be interested in reading about the city-states of Athens and Sparta, which had very different political systems and ways of life. Additionally, you could explore Greek mythology, which is full of fascinating stories and characters. To learn more, you can read books, watch documentaries, or take online courses on Ancient Greece and its culture.\n"
     ]
    }
   ],
   "source": [
    "await chat(\"I love history and philosophy, I'd like to learn something new about Greece, any suggestion?\")"
   ]
  },
  {
   "cell_type": "code",
   "execution_count": 50,
   "metadata": {},
   "outputs": [
    {
     "name": "stdout",
     "output_type": "stream",
     "text": [
      "('\\n'\n",
      " 'User: I like science fiction\\n'\n",
      " \"ChatBot: That's great! Science fiction is a fascinating genre that explores \"\n",
      " 'imaginative and futuristic concepts. Do you have any favorite science '\n",
      " 'fiction books, movies, or TV shows?\\n'\n",
      " '\\n'\n",
      " \"User: I love history and philosophy, I'd like to learn something new about \"\n",
      " 'Greece, any suggestion?\\n'\n",
      " 'ChatBot: Sure! Ancient Greece was a highly influential civilization known '\n",
      " 'for its contributions to various fields such as philosophy, science, arts, '\n",
      " 'and politics. Some key figures from Ancient Greece include philosophers like '\n",
      " 'Socrates, Plato, and Aristotle, who have greatly impacted Western thought. '\n",
      " 'You might be interested in reading about the city-states of Athens and '\n",
      " 'Sparta, which had very different political systems and ways of life. '\n",
      " 'Additionally, you could explore Greek mythology, which is full of '\n",
      " 'fascinating stories and characters. To learn more, you can read books, watch '\n",
      " 'documentaries, or take online courses on Ancient Greece and its culture.\\n')\n"
     ]
    }
   ],
   "source": [
    "from pprint import pprint\n",
    "pprint(context[\"history\"])"
   ]
  },
  {
   "cell_type": "code",
   "execution_count": 51,
   "metadata": {},
   "outputs": [
    {
     "name": "stdout",
     "output_type": "stream",
     "text": [
      "User: that sounds interesting, what is it about?\n",
      "ChatBot: Ancient Greece is known for its rich history, culture, and contributions to various fields. It is often considered the birthplace of Western civilization. Some key aspects of Ancient Greece include:\n",
      "\n",
      "1. Philosophy: Greek philosophers like Socrates, Plato, and Aristotle laid the foundations for Western philosophy. They explored topics such as ethics, metaphysics, politics, and epistemology.\n",
      "\n",
      "2. City-states: Ancient Greece was made up of independent city-states, such as Athens and Sparta, each with its own government, culture, and way of life. Athens was known for its democracy and focus on arts and education, while Sparta was a militaristic society with a strict social hierarchy.\n",
      "\n",
      "3. Mythology: Greek mythology is a collection of stories and legends about gods, heroes, and mythical creatures. These stories often served as explanations for natural phenomena or as moral lessons for the people. Some well-known Greek myths include the tales of Hercules, the Odyssey, and the Iliad.\n",
      "\n",
      "4. Arts and literature: Ancient Greece produced many great works of art, including sculptures, pottery, and architecture. The Parthenon in Athens is a prime example of Greek architecture. Greek literature includes epic poems, such as the Iliad and the Odyssey, as well as tragedies and comedies by playwrights like Sophocles, Euripides, and Aristophanes.\n",
      "\n",
      "5. Science and mathematics: Greek thinkers made significant advancements in fields like astronomy, mathematics, and medicine. Notable figures include Pythagoras, Euclid, and Hippocrates.\n",
      "\n",
      "To learn more about Ancient Greece, you can read books, watch documentaries, or take online courses that delve into its history, culture, and achievements.\n"
     ]
    }
   ],
   "source": [
    "await chat(\"that sounds interesting, what is it about?\")"
   ]
  },
  {
   "cell_type": "code",
   "execution_count": 52,
   "metadata": {},
   "outputs": [
    {
     "name": "stdout",
     "output_type": "stream",
     "text": [
      "('\\n'\n",
      " 'User: I like science fiction\\n'\n",
      " \"ChatBot: That's great! Science fiction is a fascinating genre that explores \"\n",
      " 'imaginative and futuristic concepts. Do you have any favorite science '\n",
      " 'fiction books, movies, or TV shows?\\n'\n",
      " '\\n'\n",
      " \"User: I love history and philosophy, I'd like to learn something new about \"\n",
      " 'Greece, any suggestion?\\n'\n",
      " 'ChatBot: Sure! Ancient Greece was a highly influential civilization known '\n",
      " 'for its contributions to various fields such as philosophy, science, arts, '\n",
      " 'and politics. Some key figures from Ancient Greece include philosophers like '\n",
      " 'Socrates, Plato, and Aristotle, who have greatly impacted Western thought. '\n",
      " 'You might be interested in reading about the city-states of Athens and '\n",
      " 'Sparta, which had very different political systems and ways of life. '\n",
      " 'Additionally, you could explore Greek mythology, which is full of '\n",
      " 'fascinating stories and characters. To learn more, you can read books, watch '\n",
      " 'documentaries, or take online courses on Ancient Greece and its culture.\\n'\n",
      " '\\n'\n",
      " 'User: that sounds interesting, what is it about?\\n'\n",
      " 'ChatBot: Ancient Greece is known for its rich history, culture, and '\n",
      " 'contributions to various fields. It is often considered the birthplace of '\n",
      " 'Western civilization. Some key aspects of Ancient Greece include:\\n'\n",
      " '\\n'\n",
      " '1. Philosophy: Greek philosophers like Socrates, Plato, and Aristotle laid '\n",
      " 'the foundations for Western philosophy. They explored topics such as ethics, '\n",
      " 'metaphysics, politics, and epistemology.\\n'\n",
      " '\\n'\n",
      " '2. City-states: Ancient Greece was made up of independent city-states, such '\n",
      " 'as Athens and Sparta, each with its own government, culture, and way of '\n",
      " 'life. Athens was known for its democracy and focus on arts and education, '\n",
      " 'while Sparta was a militaristic society with a strict social hierarchy.\\n'\n",
      " '\\n'\n",
      " '3. Mythology: Greek mythology is a collection of stories and legends about '\n",
      " 'gods, heroes, and mythical creatures. These stories often served as '\n",
      " 'explanations for natural phenomena or as moral lessons for the people. Some '\n",
      " 'well-known Greek myths include the tales of Hercules, the Odyssey, and the '\n",
      " 'Iliad.\\n'\n",
      " '\\n'\n",
      " '4. Arts and literature: Ancient Greece produced many great works of art, '\n",
      " 'including sculptures, pottery, and architecture. The Parthenon in Athens is '\n",
      " 'a prime example of Greek architecture. Greek literature includes epic poems, '\n",
      " 'such as the Iliad and the Odyssey, as well as tragedies and comedies by '\n",
      " 'playwrights like Sophocles, Euripides, and Aristophanes.\\n'\n",
      " '\\n'\n",
      " '5. Science and mathematics: Greek thinkers made significant advancements in '\n",
      " 'fields like astronomy, mathematics, and medicine. Notable figures include '\n",
      " 'Pythagoras, Euclid, and Hippocrates.\\n'\n",
      " '\\n'\n",
      " 'To learn more about Ancient Greece, you can read books, watch documentaries, '\n",
      " 'or take online courses that delve into its history, culture, and '\n",
      " 'achievements.\\n')\n"
     ]
    }
   ],
   "source": [
    "from pprint import pprint\n",
    "pprint(context[\"history\"])"
   ]
  },
  {
   "cell_type": "code",
   "execution_count": null,
   "metadata": {},
   "outputs": [],
   "source": []
  }
 ],
 "metadata": {
  "kernelspec": {
   "display_name": "py_openai_flask",
   "language": "python",
   "name": "python3"
  },
  "language_info": {
   "codemirror_mode": {
    "name": "ipython",
    "version": 3
   },
   "file_extension": ".py",
   "mimetype": "text/x-python",
   "name": "python",
   "nbconvert_exporter": "python",
   "pygments_lexer": "ipython3",
   "version": "3.10.0"
  },
  "orig_nbformat": 4
 },
 "nbformat": 4,
 "nbformat_minor": 2
}
