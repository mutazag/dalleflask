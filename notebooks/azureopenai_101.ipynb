{
 "cells": [
  {
   "cell_type": "code",
   "execution_count": 9,
   "metadata": {},
   "outputs": [
    {
     "name": "stdout",
     "output_type": "stream",
     "text": [
      " there was a little girl named Alice. Alice was a curious girl who loved to explore and ask questions.\n",
      "\n",
      "One day, Alice was walking in the forest when she saw a white rabbit dressed in a waistcoat. The rabbit was in a hurry and didn’t notice Alice watching him. He disappeared into a hole in a tree.\n",
      "\n",
      "Alice was intrigued and decided to follow the rabbit. She followed the rabbit through the hole and arrived into a strange world. Everything was larger than life\n",
      "length\n"
     ]
    }
   ],
   "source": [
    "import openai\n",
    "import os\n",
    "import configparser\n",
    "# Set your OpenAI API key and endpoint URL\n",
    "config = configparser.ConfigParser()\n",
    "config.read('secret.ini')\n",
    "\n",
    "openai.api_key = config['azureopenai']['api_key']\n",
    "openai.api_base = config['azureopenai']['endpoint']\n",
    "\n",
    "\n",
    "openai.api_type = \"azure\"\n",
    "openai.api_version = \"2022-12-01\"\n",
    "engine_name = \"davinci\"\n",
    "\n",
    "#url = openai.api_base + \"/openai/deployments?api-version=2022-12-01\"\n",
    "\n",
    "# Create a prompt\n",
    "prompt = \"Once upon a time\"\n",
    "\n",
    "# Call the OpenAI API to generate text\n",
    "response = openai.Completion.create(\n",
    "    engine=engine_name,\n",
    "    prompt=prompt,\n",
    "    max_tokens=100, \n",
    "    temperature=0.9,\n",
    ")\n",
    "\n",
    "# Print the generated text\n",
    "print(response.choices[0].text)\n",
    "print(response.choices[0].finish_reason)"
   ]
  },
  {
   "cell_type": "code",
   "execution_count": 10,
   "metadata": {},
   "outputs": [
    {
     "name": "stdout",
     "output_type": "stream",
     "text": [
      "- Jupiter is the fifth planet from the Sun and the largest in the Solar System; it is a gas giant.\n",
      "- It is the third brightest natural object in the night sky and has been known since before recorded history; it is named after the Roman god Jupiter.\n"
     ]
    }
   ],
   "source": [
    "# string text over multiple lines\n",
    "\n",
    "prompt = '''\n",
    "Jupiter is the fifth planet from the Sun and the largest in the Solar System. \n",
    "It is a gas giant with a mass one-thousandth that of the Sun, but two-and-a-half times that of all the other planets in the Solar System combined. \n",
    "Jupiter is one of the brightest objects visible to the naked eye in the night sky, and has been known to ancient civilizations since before recorded history. \n",
    "It is named after the Roman god Jupiter.[19] When viewed from Earth, Jupiter can be bright enough for its reflected light to cast visible shadows,[20] and is on average the third-brightest natural object in the night sky after the Moon and Venus.\n",
    "\n",
    "\n",
    "summarise the above in 2 bullet points: \n",
    "'''\n",
    "response = openai.Completion.create(\n",
    "    engine=engine_name, \n",
    "    prompt=prompt, \n",
    "    temperature=1, \n",
    "    max_tokens=1000)\n",
    "print(response.choices[0].text)\n",
    "# print(len(response.choices[0].text))\n",
    "# print(response.usage)"
   ]
  },
  {
   "cell_type": "code",
   "execution_count": 11,
   "metadata": {},
   "outputs": [
    {
     "name": "stdout",
     "output_type": "stream",
     "text": [
      "\n",
      "Jupiter is the fifth planet from the Sun and the largest in the Solar System. This gas giant has been known to ancient civilizations since before recorded history, and is named after the Roman god Jupiter. With a mass two-and-a-half times that of all the other planets in the Solar System combined, Jupiter is one of the brightest objects visible to the naked eye in the night sky. It is visible in both lunar and solar eclipses, with its reflected light casting visible shadows when viewed from Earth. Through the centuries, Jupiter has been studied extensively by astronomers both amateur and professional, with its many moons, rings, and other features continuously intensifying human curiosity and fascination.\n",
      "715\n",
      "{\n",
      "  \"completion_tokens\": 138,\n",
      "  \"prompt_tokens\": 156,\n",
      "  \"total_tokens\": 294\n",
      "}\n"
     ]
    }
   ],
   "source": [
    "# string text over multiple lines\n",
    "\n",
    "prompt = '''\n",
    "Jupiter is the fifth planet from the Sun and the largest in the Solar System. \n",
    "It is a gas giant with a mass one-thousandth that of the Sun, but two-and-a-half times that of all the other planets in the Solar System combined. \n",
    "Jupiter is one of the brightest objects visible to the naked eye in the night sky, and has been known to ancient civilizations since before recorded history. \n",
    "It is named after the Roman god Jupiter.[19] When viewed from Earth, Jupiter can be bright enough for its reflected light to cast visible shadows,[20] and is on average the third-brightest natural object in the night sky after the Moon and Venus.\n",
    "\n",
    "\n",
    "write scholarly introduction to Jupiter: \n",
    "'''\n",
    "response = openai.Completion.create(\n",
    "    engine=engine_name, \n",
    "    prompt=prompt, \n",
    "    temperature=1, \n",
    "    max_tokens=1000)\n",
    "print(response.choices[0].text)\n",
    "print(len(response.choices[0].text))\n",
    "print(response.usage)"
   ]
  },
  {
   "cell_type": "code",
   "execution_count": 12,
   "metadata": {},
   "outputs": [
    {
     "name": "stdout",
     "output_type": "stream",
     "text": [
      "{\n",
      "  \"data\": [\n",
      "    {\n",
      "      \"scale_settings\": {\n",
      "        \"scale_type\": \"standard\"\n",
      "      },\n",
      "      \"model\": \"text-embedding-ada-002\",\n",
      "      \"owner\": \"organization-owner\",\n",
      "      \"id\": \"embedding\",\n",
      "      \"status\": \"succeeded\",\n",
      "      \"created_at\": 1693289575,\n",
      "      \"updated_at\": 1693481233,\n",
      "      \"object\": \"deployment\"\n",
      "    },\n",
      "    {\n",
      "      \"scale_settings\": {\n",
      "        \"scale_type\": \"standard\"\n",
      "      },\n",
      "      \"model\": \"gpt-35-turbo\",\n",
      "      \"owner\": \"organization-owner\",\n",
      "      \"id\": \"gpt35-0301\",\n",
      "      \"status\": \"succeeded\",\n",
      "      \"created_at\": 1693384141,\n",
      "      \"updated_at\": 1693400745,\n",
      "      \"object\": \"deployment\"\n",
      "    },\n",
      "    {\n",
      "      \"scale_settings\": {\n",
      "        \"scale_type\": \"standard\"\n",
      "      },\n",
      "      \"model\": \"gpt-35-turbo-16k\",\n",
      "      \"owner\": \"organization-owner\",\n",
      "      \"id\": \"chat16k2\",\n",
      "      \"status\": \"succeeded\",\n",
      "      \"created_at\": 1693436641,\n",
      "      \"updated_at\": 1693436641,\n",
      "      \"object\": \"deployment\"\n",
      "    },\n",
      "    {\n",
      "      \"scale_settings\": {\n",
      "        \"scale_type\": \"standard\"\n",
      "      },\n",
      "      \"model\": \"gpt-35-turbo-16k\",\n",
      "      \"owner\": \"organization-owner\",\n",
      "      \"id\": \"chat16k\",\n",
      "      \"status\": \"succeeded\",\n",
      "      \"created_at\": 1693436690,\n",
      "      \"updated_at\": 1693436690,\n",
      "      \"object\": \"deployment\"\n",
      "    },\n",
      "    {\n",
      "      \"scale_settings\": {\n",
      "        \"scale_type\": \"standard\"\n",
      "      },\n",
      "      \"model\": \"text-davinci-003\",\n",
      "      \"owner\": \"organization-owner\",\n",
      "      \"id\": \"davinci\",\n",
      "      \"status\": \"succeeded\",\n",
      "      \"created_at\": 1693481201,\n",
      "      \"updated_at\": 1693481201,\n",
      "      \"object\": \"deployment\"\n",
      "    }\n",
      "  ],\n",
      "  \"object\": \"list\"\n",
      "}\n"
     ]
    }
   ],
   "source": [
    "print(openai.Deployment.list())"
   ]
  },
  {
   "cell_type": "code",
   "execution_count": 13,
   "metadata": {},
   "outputs": [
    {
     "name": "stdout",
     "output_type": "stream",
     "text": [
      "<|im_start|>system \n",
      "Assistant can answer questions. \n",
      "<|im_end|> \n",
      "<|im_start|>user \n",
      "are you a chatbot?\n",
      "<|im_end|> \n",
      "<|im_start|>assistant \n"
     ]
    }
   ],
   "source": [
    "userinput = 'are you a chatbot?'\n",
    "\n",
    "prompt = f\"\"\"<|im_start|>system \n",
    "Assistant can answer questions. \n",
    "<|im_end|> \n",
    "<|im_start|>user \n",
    "{userinput}\n",
    "<|im_end|> \n",
    "<|im_start|>assistant \"\"\"\n",
    "print(prompt)"
   ]
  },
  {
   "cell_type": "code",
   "execution_count": 14,
   "metadata": {},
   "outputs": [
    {
     "name": "stdout",
     "output_type": "stream",
     "text": [
      "\n",
      "Yes, I am an AI chatbot that can answer your questions.\n",
      "56\n",
      "{\n",
      "  \"completion_tokens\": 15,\n",
      "  \"prompt_tokens\": 62,\n",
      "  \"total_tokens\": 77\n",
      "}\n"
     ]
    }
   ],
   "source": [
    "response = openai.Completion.create(\n",
    "    engine=engine_name, \n",
    "    prompt=prompt, \n",
    "    temperature=1, \n",
    "    max_tokens=1000)\n",
    "print(response.choices[0].text)\n",
    "print(len(response.choices[0].text))\n",
    "print(response.usage)"
   ]
  },
  {
   "cell_type": "code",
   "execution_count": 15,
   "metadata": {},
   "outputs": [
    {
     "name": "stdout",
     "output_type": "stream",
     "text": [
      "\n",
      "\n",
      "No, I'm not a chatbot.\n",
      "24\n",
      "{\n",
      "  \"completion_tokens\": 11,\n",
      "  \"prompt_tokens\": 6,\n",
      "  \"total_tokens\": 17\n",
      "}\n"
     ]
    }
   ],
   "source": [
    "response = openai.Completion.create(\n",
    "    engine=engine_name, \n",
    "    prompt=userinput, \n",
    "    temperature=1, \n",
    "    max_tokens=1000)\n",
    "print(response.choices[0].text)\n",
    "print(len(response.choices[0].text))\n",
    "print(response.usage)"
   ]
  },
  {
   "cell_type": "code",
   "execution_count": null,
   "metadata": {},
   "outputs": [],
   "source": []
  }
 ],
 "metadata": {
  "kernelspec": {
   "display_name": "py_openai_flask",
   "language": "python",
   "name": "python3"
  },
  "language_info": {
   "codemirror_mode": {
    "name": "ipython",
    "version": 3
   },
   "file_extension": ".py",
   "mimetype": "text/x-python",
   "name": "python",
   "nbconvert_exporter": "python",
   "pygments_lexer": "ipython3",
   "version": "3.10.0"
  },
  "orig_nbformat": 4,
  "vscode": {
   "interpreter": {
    "hash": "92836d5847e89f8aa7c18ec03f1ff5f6340329da37dfd1e6beef34d30823ef97"
   }
  }
 },
 "nbformat": 4,
 "nbformat_minor": 2
}
