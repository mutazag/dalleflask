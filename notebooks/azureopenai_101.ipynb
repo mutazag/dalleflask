{
 "cells": [
  {
   "cell_type": "code",
   "execution_count": 10,
   "metadata": {},
   "outputs": [
    {
     "name": "stdout",
     "output_type": "stream",
     "text": [
      ", there was an kingdom. This kingdom was filled with many different kinds of people. There were merchants, farmers, blacksmiths, and more. One day, the king of this kingdom got very sick. The king's advisors said that the only way to save the king was to find a magical Herb of Life.\n",
      "\n",
      "The king's daughter set out on a quest to find the Herb of Life. She searched high and low, but she couldn't find it anywhere. Finally, she came\n",
      "length\n"
     ]
    }
   ],
   "source": [
    "import openai\n",
    "import os\n",
    "import configparser\n",
    "# Set your OpenAI API key and endpoint URL\n",
    "config = configparser.ConfigParser()\n",
    "config.read('secret.ini')\n",
    "\n",
    "openai.api_key = config['azureopenai']['api_key']\n",
    "openai.api_base = config['azureopenai']['endpoint']\n",
    "\n",
    "\n",
    "openai.api_type = \"azure\"\n",
    "openai.api_version = \"2022-12-01\"\n",
    "\n",
    "#url = openai.api_base + \"/openai/deployments?api-version=2022-12-01\"\n",
    "\n",
    "# Create a prompt\n",
    "prompt = \"Once upon a time\"\n",
    "\n",
    "# Call the OpenAI API to generate text\n",
    "response = openai.Completion.create(\n",
    "    engine=\"davinci\",\n",
    "    prompt=prompt,\n",
    "    max_tokens=100\n",
    ")\n",
    "\n",
    "# Print the generated text\n",
    "print(response.choices[0].text)\n",
    "print(response.choices[0].finish_reason)"
   ]
  },
  {
   "cell_type": "code",
   "execution_count": 25,
   "metadata": {},
   "outputs": [
    {
     "name": "stdout",
     "output_type": "stream",
     "text": [
      "\n",
      "Jupiter is the fifth planet from the Sun, and is by far the largest planet in the Solar System. It has a mass two-and-a-half times that of all the other planets in the Solar System combined, and is large enough that it could theoretically swallows all the other planets. Jupiter is mostly made of gas and is therefore known as a gas giant. However, it also has a core of rocky material.\n",
      "\n",
      "Jupiter is one of the brightest objects visible to the naked eye in the night sky. It is often referred to as the \"night star\" or the \"guardian of the gates of night\". It is named after the Roman god Jupiter.\n",
      "\n",
      "Jupiter is an important planet in astrology and is considered to be a benefic planet. benefic planets are those which are favourable to human life and wellbeing. Jupiter is also the ruling planet of the signs Sagittarius and Pisces.\n",
      "831\n",
      "{\n",
      "  \"completion_tokens\": 188,\n",
      "  \"prompt_tokens\": 156,\n",
      "  \"total_tokens\": 344\n",
      "}\n"
     ]
    }
   ],
   "source": [
    "# string text over multiple lines\n",
    "\n",
    "prompt = '''\n",
    "Jupiter is the fifth planet from the Sun and the largest in the Solar System. \n",
    "It is a gas giant with a mass one-thousandth that of the Sun, but two-and-a-half times that of all the other planets in the Solar System combined. \n",
    "Jupiter is one of the brightest objects visible to the naked eye in the night sky, and has been known to ancient civilizations since before recorded history. \n",
    "It is named after the Roman god Jupiter.[19] When viewed from Earth, Jupiter can be bright enough for its reflected light to cast visible shadows,[20] and is on average the third-brightest natural object in the night sky after the Moon and Venus.\n",
    "\n",
    "\n",
    "write scholarly introduction to Jupiter: \n",
    "'''\n",
    "response = openai.Completion.create(\n",
    "    engine=\"davinci\", \n",
    "    prompt=prompt, \n",
    "    temperature=1, \n",
    "    max_tokens=1000)\n",
    "print(response.choices[0].text)\n",
    "print(len(response.choices[0].text))\n",
    "print(response.usage)"
   ]
  },
  {
   "cell_type": "code",
   "execution_count": 9,
   "metadata": {},
   "outputs": [
    {
     "data": {
      "text/plain": [
       "<OpenAIObject list at 0x1d8ee7940e0> JSON: {\n",
       "  \"data\": [\n",
       "    {\n",
       "      \"created_at\": 1666608765,\n",
       "      \"id\": \"davinci\",\n",
       "      \"model\": \"text-davinci-002\",\n",
       "      \"object\": \"deployment\",\n",
       "      \"owner\": \"organization-owner\",\n",
       "      \"scale_settings\": {\n",
       "        \"scale_type\": \"standard\"\n",
       "      },\n",
       "      \"status\": \"succeeded\",\n",
       "      \"updated_at\": 1666608765\n",
       "    },\n",
       "    {\n",
       "      \"created_at\": 1666671916,\n",
       "      \"id\": \"codex\",\n",
       "      \"model\": \"code-cushman-001\",\n",
       "      \"object\": \"deployment\",\n",
       "      \"owner\": \"organization-owner\",\n",
       "      \"scale_settings\": {\n",
       "        \"scale_type\": \"standard\"\n",
       "      },\n",
       "      \"status\": \"succeeded\",\n",
       "      \"updated_at\": 1666671916\n",
       "    }\n",
       "  ],\n",
       "  \"object\": \"list\"\n",
       "}"
      ]
     },
     "execution_count": 9,
     "metadata": {},
     "output_type": "execute_result"
    }
   ],
   "source": [
    "openai.Deployment.list()"
   ]
  },
  {
   "cell_type": "code",
   "execution_count": null,
   "metadata": {},
   "outputs": [
    {
     "data": {
      "text/plain": [
       "<OpenAIObject list at 0x1d8ee7940e0> JSON: {\n",
       "  \"data\": [\n",
       "    {\n",
       "      \"created_at\": 1666608765,\n",
       "      \"id\": \"davinci\",\n",
       "      \"model\": \"text-davinci-002\",\n",
       "      \"object\": \"deployment\",\n",
       "      \"owner\": \"organization-owner\",\n",
       "      \"scale_settings\": {\n",
       "        \"scale_type\": \"standard\"\n",
       "      },\n",
       "      \"status\": \"succeeded\",\n",
       "      \"updated_at\": 1666608765\n",
       "    },\n",
       "    {\n",
       "      \"created_at\": 1666671916,\n",
       "      \"id\": \"codex\",\n",
       "      \"model\": \"code-cushman-001\",\n",
       "      \"object\": \"deployment\",\n",
       "      \"owner\": \"organization-owner\",\n",
       "      \"scale_settings\": {\n",
       "        \"scale_type\": \"standard\"\n",
       "      },\n",
       "      \"status\": \"succeeded\",\n",
       "      \"updated_at\": 1666671916\n",
       "    }\n",
       "  ],\n",
       "  \"object\": \"list\"\n",
       "}"
      ]
     },
     "metadata": {},
     "output_type": "display_data"
    }
   ],
   "source": [
    "openai.Deployment.list()"
   ]
  }
 ],
 "metadata": {
  "kernelspec": {
   "display_name": "py_openai_flask",
   "language": "python",
   "name": "python3"
  },
  "language_info": {
   "codemirror_mode": {
    "name": "ipython",
    "version": 3
   },
   "file_extension": ".py",
   "mimetype": "text/x-python",
   "name": "python",
   "nbconvert_exporter": "python",
   "pygments_lexer": "ipython3",
   "version": "3.10.4"
  },
  "orig_nbformat": 4,
  "vscode": {
   "interpreter": {
    "hash": "92836d5847e89f8aa7c18ec03f1ff5f6340329da37dfd1e6beef34d30823ef97"
   }
  }
 },
 "nbformat": 4,
 "nbformat_minor": 2
}
