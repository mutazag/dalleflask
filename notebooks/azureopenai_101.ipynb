{
 "cells": [
  {
   "cell_type": "code",
   "execution_count": 8,
   "metadata": {},
   "outputs": [
    {
     "name": "stdout",
     "output_type": "stream",
     "text": [
      " a magic mirror told Snow White that she was pregnant. \n",
      "\n",
      "The mirror said, \"Congratulations, Snow White! You are pregnant!\"\n",
      "stop\n"
     ]
    }
   ],
   "source": [
    "import openai\n",
    "import os\n",
    "import configparser\n",
    "# Set your OpenAI API key and endpoint URL\n",
    "config = configparser.ConfigParser()\n",
    "config.read('secret.ini')\n",
    "\n",
    "openai.api_key = config['azureopenai']['api_key']\n",
    "openai.api_base = config['azureopenai']['endpoint']\n",
    "\n",
    "\n",
    "openai.api_type = \"azure\"\n",
    "openai.api_version = \"2022-12-01\"\n",
    "\n",
    "#url = openai.api_base + \"/openai/deployments?api-version=2022-12-01\"\n",
    "\n",
    "# Create a prompt\n",
    "prompt = \"Once upon a time\"\n",
    "\n",
    "# Call the OpenAI API to generate text\n",
    "response = openai.Completion.create(\n",
    "    engine=\"davinci\",\n",
    "    prompt=prompt,\n",
    "    max_tokens=100\n",
    ")\n",
    "\n",
    "# Print the generated text\n",
    "print(response.choices[0].text)\n",
    "print(response.choices[0].finish_reason)"
   ]
  },
  {
   "cell_type": "code",
   "execution_count": 9,
   "metadata": {},
   "outputs": [
    {
     "data": {
      "text/plain": [
       "<OpenAIObject list at 0x1d8ee7940e0> JSON: {\n",
       "  \"data\": [\n",
       "    {\n",
       "      \"created_at\": 1666608765,\n",
       "      \"id\": \"davinci\",\n",
       "      \"model\": \"text-davinci-002\",\n",
       "      \"object\": \"deployment\",\n",
       "      \"owner\": \"organization-owner\",\n",
       "      \"scale_settings\": {\n",
       "        \"scale_type\": \"standard\"\n",
       "      },\n",
       "      \"status\": \"succeeded\",\n",
       "      \"updated_at\": 1666608765\n",
       "    },\n",
       "    {\n",
       "      \"created_at\": 1666671916,\n",
       "      \"id\": \"codex\",\n",
       "      \"model\": \"code-cushman-001\",\n",
       "      \"object\": \"deployment\",\n",
       "      \"owner\": \"organization-owner\",\n",
       "      \"scale_settings\": {\n",
       "        \"scale_type\": \"standard\"\n",
       "      },\n",
       "      \"status\": \"succeeded\",\n",
       "      \"updated_at\": 1666671916\n",
       "    }\n",
       "  ],\n",
       "  \"object\": \"list\"\n",
       "}"
      ]
     },
     "execution_count": 9,
     "metadata": {},
     "output_type": "execute_result"
    }
   ],
   "source": [
    "openai.Deployment.list()"
   ]
  }
 ],
 "metadata": {
  "kernelspec": {
   "display_name": "py_openai_flask",
   "language": "python",
   "name": "python3"
  },
  "language_info": {
   "codemirror_mode": {
    "name": "ipython",
    "version": 3
   },
   "file_extension": ".py",
   "mimetype": "text/x-python",
   "name": "python",
   "nbconvert_exporter": "python",
   "pygments_lexer": "ipython3",
   "version": "3.9.16"
  },
  "orig_nbformat": 4,
  "vscode": {
   "interpreter": {
    "hash": "92836d5847e89f8aa7c18ec03f1ff5f6340329da37dfd1e6beef34d30823ef97"
   }
  }
 },
 "nbformat": 4,
 "nbformat_minor": 2
}
