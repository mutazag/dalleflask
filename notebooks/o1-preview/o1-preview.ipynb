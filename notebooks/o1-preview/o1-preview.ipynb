{
 "cells": [
  {
   "cell_type": "code",
   "execution_count": null,
   "metadata": {},
   "outputs": [],
   "source": [
    "# https://learn.microsoft.com/en-us/azure/ai-services/openai/concepts/models?tabs=python#usage\n",
    "\n"
   ]
  },
  {
   "cell_type": "code",
   "execution_count": 1,
   "metadata": {},
   "outputs": [
    {
     "data": {
      "text/plain": [
       "True"
      ]
     },
     "execution_count": 1,
     "metadata": {},
     "output_type": "execute_result"
    }
   ],
   "source": [
    "import openai\n",
    "import os\n",
    "import configparser\n",
    "\n",
    "import dotenv\n",
    "dotenv.load_dotenv()\n"
   ]
  },
  {
   "cell_type": "code",
   "execution_count": 4,
   "metadata": {},
   "outputs": [
    {
     "name": "stdout",
     "output_type": "stream",
     "text": [
      "{\n",
      "  \"id\": \"chatcmpl-AJ92DfS27aqZ5vaqYrd8Hse8SXRCG\",\n",
      "  \"choices\": [\n",
      "    {\n",
      "      \"finish_reason\": \"stop\",\n",
      "      \"index\": 0,\n",
      "      \"logprobs\": null,\n",
      "      \"message\": {\n",
      "        \"content\": \"Writing your first Python API is an exciting step in building web applications or services that can be consumed by other applications or clients. An API (Application Programming Interface) allows different software applications to communicate with each other. Below are the steps you should consider when creating your first Python API:\\n\\n## 1. Define the Purpose and Requirements\\n\\n**Before writing any code**, it's crucial to clearly define what your API will do.\\n\\n- **Purpose**: What problem does your API solve? What data or functionality does it expose?\\n- **Clients**: Who will consume your API? Other developers, web applications, mobile apps?\\n- **Functionality**: What endpoints will you need? What HTTP methods will each endpoint support (GET, POST, PUT, DELETE)?\\n- **Data Formats**: Will you use JSON (most common), XML, or another format?\\n\\n## 2. Choose a Python Web Framework\\n\\nPython has several frameworks that simplify API development:\\n\\n- **Flask**: A lightweight and flexible micro-framework suitable for small to medium APIs.\\n- **Django REST Framework**: Built on Django, it provides powerful features out of the box and is ideal for larger applications.\\n- **FastAPI**: Modern, fast (high-performance), web framework for building APIs with Python 3.6+ based on standard Python type hints.\\n\\nFor your first API, **Flask** or **FastAPI** might be the easiest to start with due to their simplicity.\\n\\n## 3. Set Up Your Development Environment\\n\\n- **Install Python**: Download and install the latest version of Python from the [official website](https://www.python.org/downloads/).\\n- **Create a Virtual Environment**: This isolates your project dependencies.\\n\\n  ```bash\\n  python -m venv env\\n  source env/bin/activate  # On Windows use `env\\\\Scripts\\\\activate`\\n  ```\\n\\n- **Install Framework Dependencies**:\\n\\n  ```bash\\n  pip install flask\\n  ```\\n\\n  or\\n\\n  ```bash\\n  pip install fastapi uvicorn\\n  ```\\n\\n## 4. Plan Your API Endpoints\\n\\nDesign the structure of your API:\\n\\n- **Endpoints (URLs)**: Define the routes, e.g., `/users`, `/users/<id>`, `/products`.\\n- **HTTP Methods**: Associate each endpoint with appropriate methods (GET, POST, etc.).\\n- **Request and Response Data**: Define the input parameters and the structure of the response data.\\n\\nExample for a simple todo API:\\n\\n- `GET /todos` - Retrieve a list of todos.\\n- `GET /todos/<id>` - Retrieve a specific todo item.\\n- `POST /todos` - Create a new todo item.\\n- `PUT /todos/<id>` - Update a todo item.\\n- `DELETE /todos/<id>` - Delete a todo item.\\n\\n## 5. Implement the API\\n\\n### Using Flask\\n\\nHere's how you might implement a simple API using Flask:\\n\\n```python\\nfrom flask import Flask, request, jsonify\\n\\napp = Flask(__name__)\\n\\n# In-memory data store\\ntodos = []\\n\\n@app.route('/todos', methods=['GET'])\\ndef get_todos():\\n    return jsonify(todos)\\n\\n@app.route('/todos', methods=['POST'])\\ndef create_todo():\\n    todo = request.get_json()\\n    todos.append(todo)\\n    return jsonify(todo), 201\\n\\n@app.route('/todos/<int:todo_id>', methods=['GET'])\\ndef get_todo(todo_id):\\n    if 0 <= todo_id < len(todos):\\n        return jsonify(todos[todo_id])\\n    else:\\n        return jsonify({'error': 'Todo not found'}), 404\\n\\n@app.route('/todos/<int:todo_id>', methods=['PUT'])\\ndef update_todo(todo_id):\\n    if 0 <= todo_id < len(todos):\\n        todos[todo_id] = request.get_json()\\n        return jsonify(todos[todo_id])\\n    else:\\n        return jsonify({'error': 'Todo not found'}), 404\\n\\n@app.route('/todos/<int:todo_id>', methods=['DELETE'])\\ndef delete_todo(todo_id):\\n    if 0 <= todo_id < len(todos):\\n        todo = todos.pop(todo_id)\\n        return jsonify(todo)\\n    else:\\n        return jsonify({'error': 'Todo not found'}), 404\\n\\nif __name__ == '__main__':\\n    app.run(debug=True)\\n```\\n\\n### Using FastAPI\\n\\nAlternatively, with FastAPI:\\n\\n```python\\nfrom fastapi import FastAPI, HTTPException\\nfrom pydantic import BaseModel\\n\\napp = FastAPI()\\n\\n# Data model\\nclass TodoItem(BaseModel):\\n    title: str\\n    description: str = None\\n    completed: bool = False\\n\\n# In-memory data store\\ntodos = []\\n\\n@app.get(\\\"/todos\\\")\\ndef read_todos():\\n    return todos\\n\\n@app.post(\\\"/todos\\\", status_code=201)\\ndef create_todo(todo: TodoItem):\\n    todos.append(todo)\\n    return todo\\n\\n@app.get(\\\"/todos/{todo_id}\\\")\\ndef read_todo(todo_id: int):\\n    if 0 <= todo_id < len(todos):\\n        return todos[todo_id]\\n    else:\\n        raise HTTPException(status_code=404, detail=\\\"Todo not found\\\")\\n\\n@app.put(\\\"/todos/{todo_id}\\\")\\ndef update_todo(todo_id: int, todo: TodoItem):\\n    if 0 <= todo_id < len(todos):\\n        todos[todo_id] = todo\\n        return todo\\n    else:\\n        raise HTTPException(status_code=404, detail=\\\"Todo not found\\\")\\n\\n@app.delete(\\\"/todos/{todo_id}\\\")\\ndef delete_todo(todo_id: int):\\n    if 0 <= todo_id < len(todos):\\n        return todos.pop(todo_id)\\n    else:\\n        raise HTTPException(status_code=404, detail=\\\"Todo not found\\\")\\n```\\n\\n**To run the FastAPI app**, you need to use Uvicorn:\\n\\n```bash\\nuvicorn main:app --reload\\n```\\n\\n## 6. Implement Data Validation and Error Handling\\n\\n- **Data Validation**: Ensure that incoming data is valid. For FastAPI, Pydantic models are used for validation.\\n- **Error Handling**: Gracefully handle errors and return meaningful HTTP status codes and messages.\\n\\n## 7. Test Your API\\n\\n- **Manual Testing**: Use tools like [Postman](https://www.postman.com/) or [cURL](https://curl.se/) to send requests to your API endpoints and verify responses.\\n- **Automated Testing**: Write unit tests using `unittest` or `pytest` to automate testing.\\n\\nExample using `pytest`:\\n\\n```python\\ndef test_get_todos():\\n    response = client.get('/todos')\\n    assert response.status_code == 200\\n    assert isinstance(response.json(), list)\\n```\\n\\n## 8. Add Authentication and Authorization (Optional)\\n\\n- **Authentication**: Verify the identity of users (e.g., using API keys, OAuth tokens).\\n- **Authorization**: Control access to resources based on user permissions.\\n\\nFor simple APIs, you might skip this step initially, but it's important for APIs that handle sensitive data.\\n\\n## 9. Document Your API\\n\\n- **API Documentation**: Provides information on how to use your API endpoints.\\n\\n  - **Swagger/OpenAPI**: Tools like [Flasgger](https://github.com/flasgger/flasgger) for Flask or built-in support in FastAPI can automatically generate interactive API documentation.\\n\\nWith FastAPI, you get automatic interactive documentation at `http://localhost:8000/docs`.\\n\\n## 10. Deploy Your API\\n\\n- **Choose a Hosting Platform**: Options include [Heroku](https://www.heroku.com/), [Amazon Web Services (AWS)](https://aws.amazon.com/), [Google Cloud Platform (GCP)](https://cloud.google.com/), [DigitalOcean](https://www.digitalocean.com/), etc.\\n- **Prepare for Production**:\\n\\n  - Use a production-ready web server like [Gunicorn](https://gunicorn.org/) for Flask apps.\\n  - Configure environment variables for configuration settings.\\n  - Set `debug=False` in production environments.\\n\\n- **Deployment Steps**:\\n\\n  - **Containerization**: Use Docker to containerize your application for consistent deployment.\\n  - **Continuous Integration/Continuous Deployment (CI/CD)**: Set up pipelines to automate testing and deployment.\\n\\n## 11. Monitor and Maintain Your API\\n\\n- **Logging**: Implement logging to track requests and errors.\\n- **Monitoring**: Use monitoring tools to track the performance and uptime of your API.\\n- **Versioning**: As you make changes, maintain versions of your API to prevent breaking changes for clients.\\n\\n## 12. Learn Best Practices\\n\\n- **Security**: Protect against common vulnerabilities (e.g., injection attacks, cross-site scripting).\\n- **Performance**: Optimize your API for speed and efficiency.\\n- **Scalability**: Design your API to handle increased load.\\n\\n## Additional Tips\\n\\n- **Read the Documentation**: Familiarize yourself with the documentation of the framework you choose.\\n- **Sample Projects**: Look at example projects or tutorials to understand how everything fits together.\\n- **Community Support**: Engage with developer communities (e.g., Stack Overflow, GitHub) if you run into issues.\\n\\n## Resources\\n\\n- **Flask Documentation**: [https://flask.palletsprojects.com/](https://flask.palletsprojects.com/)\\n- **FastAPI Documentation**: [https://fastapi.tiangolo.com/](https://fastapi.tiangolo.com/)\\n- **Django REST Framework**: [https://www.django-rest-framework.org/](https://www.django-rest-framework.org/)\\n- **Swagger/OpenAPI**: [https://swagger.io/](https://swagger.io/)\\n\\n---\\n\\nBy following these steps, you'll be able to create a functional Python API. Start with a simple implementation, and gradually add complexity as you become more comfortable. Happy coding!\",\n",
      "        \"refusal\": null,\n",
      "        \"role\": \"assistant\",\n",
      "        \"function_call\": null,\n",
      "        \"tool_calls\": null\n",
      "      },\n",
      "      \"content_filter_results\": {\n",
      "        \"hate\": {\n",
      "          \"filtered\": false,\n",
      "          \"severity\": \"safe\"\n",
      "        },\n",
      "        \"protected_material_code\": {\n",
      "          \"filtered\": false,\n",
      "          \"detected\": false\n",
      "        },\n",
      "        \"protected_material_text\": {\n",
      "          \"filtered\": false,\n",
      "          \"detected\": false\n",
      "        },\n",
      "        \"self_harm\": {\n",
      "          \"filtered\": false,\n",
      "          \"severity\": \"safe\"\n",
      "        },\n",
      "        \"sexual\": {\n",
      "          \"filtered\": false,\n",
      "          \"severity\": \"safe\"\n",
      "        },\n",
      "        \"violence\": {\n",
      "          \"filtered\": false,\n",
      "          \"severity\": \"safe\"\n",
      "        }\n",
      "      }\n",
      "    }\n",
      "  ],\n",
      "  \"created\": 1729126325,\n",
      "  \"model\": \"o1-preview-2024-09-12\",\n",
      "  \"object\": \"chat.completion\",\n",
      "  \"service_tier\": null,\n",
      "  \"system_fingerprint\": \"fp_50cdd5dc04\",\n",
      "  \"usage\": {\n",
      "    \"completion_tokens\": 2430,\n",
      "    \"prompt_tokens\": 20,\n",
      "    \"total_tokens\": 2450,\n",
      "    \"completion_tokens_details\": {\n",
      "      \"audio_tokens\": null,\n",
      "      \"reasoning_tokens\": 384\n",
      "    },\n",
      "    \"prompt_tokens_details\": {\n",
      "      \"audio_tokens\": null,\n",
      "      \"cached_tokens\": 0\n",
      "    }\n",
      "  },\n",
      "  \"prompt_filter_results\": [\n",
      "    {\n",
      "      \"prompt_index\": 0,\n",
      "      \"content_filter_results\": {\n",
      "        \"custom_blocklists\": {\n",
      "          \"filtered\": false\n",
      "        },\n",
      "        \"hate\": {\n",
      "          \"filtered\": false,\n",
      "          \"severity\": \"safe\"\n",
      "        },\n",
      "        \"jailbreak\": {\n",
      "          \"filtered\": false,\n",
      "          \"detected\": false\n",
      "        },\n",
      "        \"self_harm\": {\n",
      "          \"filtered\": false,\n",
      "          \"severity\": \"safe\"\n",
      "        },\n",
      "        \"sexual\": {\n",
      "          \"filtered\": false,\n",
      "          \"severity\": \"safe\"\n",
      "        },\n",
      "        \"violence\": {\n",
      "          \"filtered\": false,\n",
      "          \"severity\": \"safe\"\n",
      "        }\n",
      "      }\n",
      "    }\n",
      "  ]\n",
      "}\n"
     ]
    },
    {
     "ename": "",
     "evalue": "",
     "output_type": "error",
     "traceback": [
      "\u001b[1;31mThe Kernel crashed while executing code in the current cell or a previous cell. \n",
      "\u001b[1;31mPlease review the code in the cell(s) to identify a possible cause of the failure. \n",
      "\u001b[1;31mClick <a href='https://aka.ms/vscodeJupyterKernelCrash'>here</a> for more info. \n",
      "\u001b[1;31mView Jupyter <a href='command:jupyter.viewOutput'>log</a> for further details."
     ]
    }
   ],
   "source": [
    "from openai import AzureOpenAI\n",
    "\n",
    "client = AzureOpenAI(\n",
    "  azure_endpoint = os.getenv(\"AZURE_OPENAI_ENDPOINT\"), \n",
    "  api_key=os.getenv(\"AZURE_OPENAI_API_KEY\"),  \n",
    "  api_version=\"2024-09-01-preview\"\n",
    ")\n",
    "\n",
    "o1_model = os.getenv(\"AZURE_OPENAI_O1_PREVIEW_MODEL\")\n",
    "\n",
    "response = client.chat.completions.create(\n",
    "    model=o1_model, # replace with the model deployment name of your o1-preview, or o1-mini model\n",
    "    messages=[\n",
    "        {\"role\": \"user\", \"content\": \"What steps should I think about when writing my first Python API?\"},\n",
    "    ],\n",
    "    max_completion_tokens = 5000\n",
    "\n",
    ")\n",
    "\n",
    "print(response.model_dump_json(indent=2))"
   ]
  },
  {
   "cell_type": "code",
   "execution_count": null,
   "metadata": {},
   "outputs": [],
   "source": []
  }
 ],
 "metadata": {
  "kernelspec": {
   "display_name": ".venv",
   "language": "python",
   "name": "python3"
  },
  "language_info": {
   "codemirror_mode": {
    "name": "ipython",
    "version": 3
   },
   "file_extension": ".py",
   "mimetype": "text/x-python",
   "name": "python",
   "nbconvert_exporter": "python",
   "pygments_lexer": "ipython3",
   "version": "3.10.11"
  }
 },
 "nbformat": 4,
 "nbformat_minor": 2
}
