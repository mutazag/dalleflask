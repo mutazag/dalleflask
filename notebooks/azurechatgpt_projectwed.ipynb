{
 "cells": [
  {
   "cell_type": "code",
   "execution_count": null,
   "metadata": {},
   "outputs": [],
   "source": [
    "# load env variables from .env file\n",
    "from dotenv import load_dotenv\n",
    "import os\n",
    "load_dotenv()\n"
   ]
  },
  {
   "cell_type": "code",
   "execution_count": null,
   "metadata": {},
   "outputs": [],
   "source": [
    "\n",
    "chatgpt_wed_api_key = os.environ.get(\"chatgpt_wed_api_key\")\n",
    "chatgpt_wed_region = os.environ.get(\"chatgpt_wed_region\")\n",
    "chatgpt_wed_endpoint = os.environ.get(\"chatgpt_wed_endpoint\")\n",
    "chatgpt_wed_api_version = os.environ.get(\"chatgpt_wed_api_version\")\n",
    "chatgpt_wed_deployment = os.environ.get(\"chatgpt_wed_deployment\")\n",
    "search_wed_endpoint = os.environ.get(\"search_wed_endpoint\")\n",
    "search_wed_key = os.environ.get(\"search_wed_key\")\n",
    "search_wed_index = os.environ.get(\"search_wed_index\")"
   ]
  },
  {
   "cell_type": "code",
   "execution_count": null,
   "metadata": {},
   "outputs": [],
   "source": [
    "from urllib.parse import urljoin, urlparse \n",
    "aoai_extension_endpoint = urljoin(chatgpt_wed_endpoint, f\"/openai/deployments/{chatgpt_wed_deployment}/extensions/chat/completions?api-version={chatgpt_wed_api_version}\")\n",
    "# chatgpt_api_url = urljoin(chatgpt_wed_endpoint, f\"/openai/deployments/{chatgot_wed_deployment}/completions?api-version={chatgpt_wed_api_version}\")\n",
    "chatgpt_api_url = urljoin(chatgpt_wed_endpoint, f\"/openai/deployments/{chatgpt_wed_deployment}/chat/completions?api-version=2023-03-15-preview\")\n"
   ]
  },
  {
   "cell_type": "code",
   "execution_count": null,
   "metadata": {},
   "outputs": [],
   "source": [
    "print(f\"AOAI Endpoint: {aoai_extension_endpoint}\")\n",
    "print(f\"ChatGPT Endpoint: {chatgpt_api_url}\")"
   ]
  },
  {
   "cell_type": "code",
   "execution_count": null,
   "metadata": {},
   "outputs": [],
   "source": [
    "import json \n",
    "\n",
    "def fprint(obj):\n",
    "    # cast obj to dict before printing\n",
    "\n",
    "\n",
    "\n",
    "    print(json.dumps(dict(obj), indent=4))\n",
    "\n",
    "\n",
    "messages = { \n",
    "    \"messages\": [\n",
    "        {\n",
    "            \"role\": \"system\",\n",
    "\t\t    \"content\": \"\"\"Assistant helps the company employees with their healthcare plan questions, and questions about the employee handbook. \n",
    "Be brief in your answers.\n",
    "Say goodbye at the end of every response. \n",
    "            \"\"\"\n",
    "        }, \n",
    "        {\n",
    "            \"role\": \"user\", \n",
    "            \"content\": \"Hi, I'm looking for a wedding venue in the UK. Can you help me?\"\n",
    "        }\n",
    "\n",
    "    ]\n",
    "}\n",
    "\n",
    "\n",
    "##TODO:  Include feilds mapping here\n",
    "datasources = {\n",
    "    \"dataSources\": [\n",
    "        {\n",
    "            \"type\": \"AzureCognitiveSearch\",\n",
    "            \"parameters\": {\n",
    "                \"endpoint\": search_wed_endpoint,\n",
    "                \"key\": search_wed_key,\n",
    "                \"indexName\": search_wed_index,\n",
    "                \"fieldsMapping\": {\n",
    "                    \"titleField\": \"sourcefile\",\n",
    "                    \"urlField\": \"sourcepage\",\n",
    "                    \"filepathField\": \"sourcepage\",\n",
    "                    \"contentFields\": [\n",
    "                        \"content\"\n",
    "                    ],\n",
    "                    \"contentFieldsSeparator\": \"\\n\"\n",
    "                },\n",
    "                \"inScope\": \"true\",\n",
    "                \"topNDocuments\": 3,\n",
    "                \"queryType\": \"semantic\",\n",
    "                \"semanticConfiguration\": \"default\",\n",
    "                \"roleInformation\": \"\"\n",
    "            }\n",
    "        }\n",
    "    ]\n",
    "}\n",
    "\n",
    "\n",
    "headers = {\n",
    "    \"Content-Type\": \"application/json\",\n",
    "    \"api-key\": f\"{chatgpt_wed_api_key}\",\n",
    "    \"chatgpt_url\": chatgpt_api_url, \n",
    "    \"chatgpt_key\": chatgpt_wed_api_key,\n",
    "}\n",
    "\n"
   ]
  },
  {
   "cell_type": "code",
   "execution_count": null,
   "metadata": {},
   "outputs": [],
   "source": [
    "print(headers.keys())"
   ]
  },
  {
   "cell_type": "code",
   "execution_count": null,
   "metadata": {},
   "outputs": [],
   "source": [
    "\n",
    "# combine datasources and messages into a payload\n",
    "payload = {**datasources, **messages}\n",
    "#fprint(payload)\n"
   ]
  },
  {
   "cell_type": "code",
   "execution_count": null,
   "metadata": {},
   "outputs": [],
   "source": [
    "import requests\n",
    "response = requests.post(aoai_extension_endpoint, headers=headers, data=json.dumps({**datasources, **messages}))\n",
    "fprint(response.json())\n"
   ]
  },
  {
   "cell_type": "code",
   "execution_count": null,
   "metadata": {},
   "outputs": [],
   "source": [
    "# read response as dict \n",
    "response_dict = response.json()\n",
    "\n",
    "response_dict[\"choices\"][0]['messages']\n",
    "\n",
    "for m in response_dict[\"choices\"][0]['messages']: \n",
    "    if m[\"role\"] == \"assistant\":\n",
    "        messages[\"messages\"].append(m)\n",
    "    "
   ]
  },
  {
   "cell_type": "code",
   "execution_count": null,
   "metadata": {},
   "outputs": [],
   "source": [
    "fprint(messages)\n"
   ]
  },
  {
   "cell_type": "code",
   "execution_count": null,
   "metadata": {},
   "outputs": [],
   "source": [
    "messages[\"messages\"].append({\n",
    "    \"role\": \"user\",\n",
    "    \"content\": \"tell me about northwind health plan\"\n",
    "})\n",
    "\n",
    "fprint(messages)\n",
    "\n",
    "response = requests.post(aoai_extension_endpoint, headers=headers, data=json.dumps({**datasources, **messages}))\n"
   ]
  },
  {
   "cell_type": "code",
   "execution_count": null,
   "metadata": {},
   "outputs": [],
   "source": [
    "len(response.json()['choices'])"
   ]
  },
  {
   "cell_type": "code",
   "execution_count": null,
   "metadata": {},
   "outputs": [],
   "source": [
    "fprint(response.json()['choices'][0])"
   ]
  },
  {
   "cell_type": "code",
   "execution_count": null,
   "metadata": {},
   "outputs": [],
   "source": [
    "# read citations from response \n",
    "citations = []\n",
    "intent = []\n",
    "for m in response.json()['choices'][0]['messages']: \n",
    "    if m[\"role\"] == \"tool\":\n",
    "        citations = json.loads(m[\"content\"])['citations']\n",
    "        intent = json.loads(m[\"content\"])['intent']\n",
    "\n",
    "    if m[\"role\"] == \"assistant\":\n",
    "        messages[\"messages\"].append(m)\n",
    "\n",
    "print(len(citations))"
   ]
  },
  {
   "cell_type": "code",
   "execution_count": null,
   "metadata": {},
   "outputs": [],
   "source": [
    "for c in citations:\n",
    "    fprint(c)"
   ]
  },
  {
   "cell_type": "code",
   "execution_count": null,
   "metadata": {},
   "outputs": [],
   "source": [
    "print(intent)"
   ]
  },
  {
   "cell_type": "code",
   "execution_count": null,
   "metadata": {},
   "outputs": [],
   "source": []
  }
 ],
 "metadata": {
  "kernelspec": {
   "display_name": "py_openai_flask",
   "language": "python",
   "name": "python3"
  },
  "language_info": {
   "codemirror_mode": {
    "name": "ipython",
    "version": 3
   },
   "file_extension": ".py",
   "mimetype": "text/x-python",
   "name": "python",
   "nbconvert_exporter": "python",
   "pygments_lexer": "ipython3",
   "version": "3.9.16"
  },
  "orig_nbformat": 4
 },
 "nbformat": 4,
 "nbformat_minor": 2
}
