{
 "cells": [
  {
   "cell_type": "code",
   "execution_count": 1,
   "metadata": {},
   "outputs": [
    {
     "data": {
      "text/plain": [
       "True"
      ]
     },
     "execution_count": 1,
     "metadata": {},
     "output_type": "execute_result"
    }
   ],
   "source": [
    "# load env variables from .env file\n",
    "from dotenv import load_dotenv\n",
    "import os\n",
    "load_dotenv()\n"
   ]
  },
  {
   "cell_type": "code",
   "execution_count": 2,
   "metadata": {},
   "outputs": [],
   "source": [
    "\n",
    "chatgpt_wed_api_key = os.environ.get(\"chatgpt_wed_api_key\")\n",
    "chatgpt_wed_region = os.environ.get(\"chatgpt_wed_region\")\n",
    "chatgpt_wed_endpoint = os.environ.get(\"chatgpt_wed_endpoint\")\n",
    "chatgpt_wed_api_version = os.environ.get(\"chatgpt_wed_api_version\")\n",
    "chatgpt_wed_deployment = os.environ.get(\"chatgpt_wed_deployment\")\n",
    "search_wed_endpoint = os.environ.get(\"search_wed_endpoint\")\n",
    "search_wed_key = os.environ.get(\"search_wed_key\")\n",
    "search_wed_index = os.environ.get(\"search_wed_index\")"
   ]
  },
  {
   "cell_type": "code",
   "execution_count": 3,
   "metadata": {},
   "outputs": [],
   "source": [
    "from urllib.parse import urljoin, urlparse \n",
    "aoai_extension_endpoint = urljoin(chatgpt_wed_endpoint, f\"/openai/deployments/{chatgpt_wed_deployment}/extensions/chat/completions?api-version={chatgpt_wed_api_version}\")\n",
    "# chatgpt_api_url = urljoin(chatgpt_wed_endpoint, f\"/openai/deployments/{chatgot_wed_deployment}/completions?api-version={chatgpt_wed_api_version}\")\n",
    "chatgpt_api_url = urljoin(chatgpt_wed_endpoint, f\"/openai/deployments/{chatgpt_wed_deployment}/chat/completions?api-version=2023-03-15-preview\")\n"
   ]
  },
  {
   "cell_type": "code",
   "execution_count": 4,
   "metadata": {},
   "outputs": [
    {
     "name": "stdout",
     "output_type": "stream",
     "text": [
      "AOAI Endpoint: https://magoai.openai.azure.com/openai/deployments/chat16k/extensions/chat/completions?api-version=2023-06-01-preview\n",
      "ChatGPT Endpoint: https://magoai.openai.azure.com/openai/deployments/chat16k/chat/completions?api-version=2023-03-15-preview\n"
     ]
    }
   ],
   "source": [
    "print(f\"AOAI Endpoint: {aoai_extension_endpoint}\")\n",
    "print(f\"ChatGPT Endpoint: {chatgpt_api_url}\")"
   ]
  },
  {
   "cell_type": "code",
   "execution_count": 5,
   "metadata": {},
   "outputs": [],
   "source": [
    "import json \n",
    "\n",
    "def fprint(obj):\n",
    "    # cast obj to dict before printing\n",
    "\n",
    "\n",
    "\n",
    "    print(json.dumps(dict(obj), indent=4))\n",
    "\n",
    "\n",
    "messages = { \n",
    "    \"messages\": [\n",
    "        {\n",
    "            \"role\": \"system\",\n",
    "\t\t    \"content\": \"\"\"Assistant helps the company employees with their healthcare plan questions, and questions about the employee handbook. \n",
    "Be brief in your answers.\n",
    "Say goodbye at the end of every response. \n",
    "            \"\"\"\n",
    "        }, \n",
    "        {\n",
    "            \"role\": \"user\", \n",
    "            \"content\": \"Hi, I'm looking for a wedding venue in the UK. Can you help me?\"\n",
    "        }\n",
    "\n",
    "    ]\n",
    "}\n",
    "\n",
    "\n",
    "##TODO:  Include feilds mapping here\n",
    "datasources = {\n",
    "    \"dataSources\": [\n",
    "        {\n",
    "            \"type\": \"AzureCognitiveSearch\",\n",
    "            \"parameters\": {\n",
    "                \"endpoint\": search_wed_endpoint,\n",
    "                \"key\": search_wed_key,\n",
    "                \"indexName\": search_wed_index,\n",
    "                \"fieldsMapping\": {\n",
    "                    \"titleField\": \"sourcefile\",\n",
    "                    \"urlField\": \"sourcepage\",\n",
    "                    \"filepathField\": \"sourcepage\",\n",
    "                    \"contentFields\": [\n",
    "                        \"content\"\n",
    "                    ],\n",
    "                    \"contentFieldsSeparator\": \"\\n\"\n",
    "                },\n",
    "                \"inScope\": \"true\",\n",
    "                \"topNDocuments\": 3,\n",
    "                \"queryType\": \"semantic\",\n",
    "                \"semanticConfiguration\": \"default\",\n",
    "                \"roleInformation\": \"\"\n",
    "            }\n",
    "        }\n",
    "    ]\n",
    "}\n",
    "\n",
    "\n",
    "headers = {\n",
    "    \"Content-Type\": \"application/json\",\n",
    "    \"api-key\": f\"{chatgpt_wed_api_key}\",\n",
    "    \"chatgpt_url\": chatgpt_api_url, \n",
    "    \"chatgpt_key\": chatgpt_wed_api_key,\n",
    "}\n",
    "\n"
   ]
  },
  {
   "cell_type": "code",
   "execution_count": 6,
   "metadata": {},
   "outputs": [
    {
     "name": "stdout",
     "output_type": "stream",
     "text": [
      "dict_keys(['Content-Type', 'api-key', 'chatgpt_url', 'chatgpt_key'])\n"
     ]
    }
   ],
   "source": [
    "print(headers.keys())"
   ]
  },
  {
   "cell_type": "code",
   "execution_count": 7,
   "metadata": {},
   "outputs": [],
   "source": [
    "\n",
    "# combine datasources and messages into a payload\n",
    "payload = {**datasources, **messages}\n",
    "#fprint(payload)\n"
   ]
  },
  {
   "cell_type": "code",
   "execution_count": 8,
   "metadata": {},
   "outputs": [
    {
     "name": "stdout",
     "output_type": "stream",
     "text": [
      "{\n",
      "    \"id\": \"e0763eb9-22b6-46b1-8435-8e6f4b83ed86\",\n",
      "    \"model\": \"gpt-35-turbo-16k\",\n",
      "    \"created\": 1693885904,\n",
      "    \"object\": \"chat.completion\",\n",
      "    \"choices\": [\n",
      "        {\n",
      "            \"index\": 0,\n",
      "            \"messages\": [\n",
      "                {\n",
      "                    \"index\": 0,\n",
      "                    \"role\": \"tool\",\n",
      "                    \"content\": \"{\\\"citations\\\": [], \\\"intent\\\": \\\"[\\\\\\\"I'm looking for a wedding venue in the UK\\\\\\\"]\\\"}\",\n",
      "                    \"end_turn\": false\n",
      "                },\n",
      "                {\n",
      "                    \"index\": 1,\n",
      "                    \"role\": \"assistant\",\n",
      "                    \"content\": \"The requested information is not found in the retrieved data. Please try another query or topic.\",\n",
      "                    \"end_turn\": true\n",
      "                }\n",
      "            ]\n",
      "        }\n",
      "    ]\n",
      "}\n"
     ]
    }
   ],
   "source": [
    "import requests\n",
    "response = requests.post(aoai_extension_endpoint, headers=headers, data=json.dumps({**datasources, **messages}))\n",
    "fprint(response.json())\n"
   ]
  },
  {
   "cell_type": "code",
   "execution_count": 9,
   "metadata": {},
   "outputs": [],
   "source": [
    "# read response as dict \n",
    "response_dict = response.json()\n",
    "\n",
    "response_dict[\"choices\"][0]['messages']\n",
    "\n",
    "for m in response_dict[\"choices\"][0]['messages']: \n",
    "    if m[\"role\"] == \"assistant\":\n",
    "        messages[\"messages\"].append(m)\n",
    "    "
   ]
  },
  {
   "cell_type": "code",
   "execution_count": 10,
   "metadata": {},
   "outputs": [
    {
     "name": "stdout",
     "output_type": "stream",
     "text": [
      "{\n",
      "    \"messages\": [\n",
      "        {\n",
      "            \"role\": \"system\",\n",
      "            \"content\": \"Assistant helps the company employees with their healthcare plan questions, and questions about the employee handbook. \\nBe brief in your answers.\\nSay goodbye at the end of every response. \\n            \"\n",
      "        },\n",
      "        {\n",
      "            \"role\": \"user\",\n",
      "            \"content\": \"Hi, I'm looking for a wedding venue in the UK. Can you help me?\"\n",
      "        },\n",
      "        {\n",
      "            \"index\": 1,\n",
      "            \"role\": \"assistant\",\n",
      "            \"content\": \"The requested information is not found in the retrieved data. Please try another query or topic.\",\n",
      "            \"end_turn\": true\n",
      "        }\n",
      "    ]\n",
      "}\n"
     ]
    }
   ],
   "source": [
    "fprint(messages)\n"
   ]
  },
  {
   "cell_type": "code",
   "execution_count": 11,
   "metadata": {},
   "outputs": [
    {
     "name": "stdout",
     "output_type": "stream",
     "text": [
      "{\n",
      "    \"messages\": [\n",
      "        {\n",
      "            \"role\": \"system\",\n",
      "            \"content\": \"Assistant helps the company employees with their healthcare plan questions, and questions about the employee handbook. \\nBe brief in your answers.\\nSay goodbye at the end of every response. \\n            \"\n",
      "        },\n",
      "        {\n",
      "            \"role\": \"user\",\n",
      "            \"content\": \"Hi, I'm looking for a wedding venue in the UK. Can you help me?\"\n",
      "        },\n",
      "        {\n",
      "            \"index\": 1,\n",
      "            \"role\": \"assistant\",\n",
      "            \"content\": \"The requested information is not found in the retrieved data. Please try another query or topic.\",\n",
      "            \"end_turn\": true\n",
      "        },\n",
      "        {\n",
      "            \"role\": \"user\",\n",
      "            \"content\": \"tell me about northwind health plan\"\n",
      "        }\n",
      "    ]\n",
      "}\n"
     ]
    }
   ],
   "source": [
    "messages[\"messages\"].append({\n",
    "    \"role\": \"user\",\n",
    "    \"content\": \"tell me about northwind health plan\"\n",
    "})\n",
    "\n",
    "fprint(messages)\n",
    "\n",
    "response = requests.post(aoai_extension_endpoint, headers=headers, data=json.dumps({**datasources, **messages}))\n"
   ]
  },
  {
   "cell_type": "code",
   "execution_count": 12,
   "metadata": {},
   "outputs": [
    {
     "data": {
      "text/plain": [
       "1"
      ]
     },
     "execution_count": 12,
     "metadata": {},
     "output_type": "execute_result"
    }
   ],
   "source": [
    "len(response.json()['choices'])"
   ]
  },
  {
   "cell_type": "code",
   "execution_count": 13,
   "metadata": {},
   "outputs": [
    {
     "name": "stdout",
     "output_type": "stream",
     "text": [
      "{\n",
      "    \"index\": 0,\n",
      "    \"messages\": [\n",
      "        {\n",
      "            \"index\": 0,\n",
      "            \"role\": \"tool\",\n",
      "            \"content\": \"{\\\"citations\\\": [{\\\"content\\\": \\\"Contoso Electronics Plan and Benefit Packages\\\\nContoso Electronics This document contains information generated using a language model (Azure OpenAI). The information contained in this document is only for demonstration purposes and does not reflect the opinions or beliefs of Microsoft. Microsoft makes no representations or warranties of any kind, express or implied, about the completeness, accuracy, reliability, suitability or availability with respect to the information contained in this document.\\\\nAll rights reserved to Microsoft Welcome to Contoso Electronics! We are excited to offer our employees two comprehensive health insurance plans through Northwind Health.\\\\nNorthwind Health Plus\\\\nNorthwind Health Plus is a comprehensive plan that provides comprehensive coverage for medical, vision, and dental services. This plan also offers prescription drug coverage, mental health and substance abuse coverage, and coverage for preventive care services. With Northwind Health Plus, you can choose from a variety of in-network providers, including primary care physicians, specialists, hospitals, \\\", \\\"id\\\": null, \\\"title\\\": \\\"Benefit_Options.pdf\\\", \\\"filepath\\\": \\\"Benefit_Options-0.pdf\\\", \\\"url\\\": \\\"Benefit_Options-0.pdf\\\", \\\"metadata\\\": {\\\"chunking\\\": \\\"orignal document size=192. Scores=0.7840073704719543 and 3.1360294818878174.Org Highlight count=15.\\\"}, \\\"chunk_id\\\": \\\"0\\\"}, {\\\"content\\\": \\\"\\\\n\\u2022 Contact Northwind Health if you have any questions or concerns about the evidence of medical necessity requirements for the services or treatments you are requesting.\\\\nBy following these tips, you can help ensure that your request for services or treatments is approved in a timely manner and that you are receiving the most appropriate care.\\\\nConclusion\\\\nEvidence of medical necessity is an important component of health insurance coverage, and it is important to understand the requirements of the Northwind Health Plus plan in order to obtain the services or treatments you need. By following the tips outlined above, you can help ensure that your request for services or treatments is approved in a timely manner and that you are receiving the most appropriate care.\\\\nThe Group And You\\\\nOTHER INFORMATION ABOUT THIS PLAN\\\\nThe Group and You The Northwind Health Plus plan is a group health plan that is sponsored by Contoso and administered by Northwind Health. As a participant in this group plan, you will have access to a wide range of health benefits and services.\\\\nYour employer, Contoso, pays a portion of the premium for the plan, and you are responsible for \\\", \\\"id\\\": null, \\\"title\\\": \\\"Northwind_Health_Plus_Benefits_Details.pdf\\\", \\\"filepath\\\": \\\"Northwind_Health_Plus_Benefits_Details-92.pdf\\\", \\\"url\\\": \\\"Northwind_Health_Plus_Benefits_Details-92.pdf\\\", \\\"metadata\\\": {\\\"chunking\\\": \\\"orignal document size=223. Scores=0.7550934553146362 and 3.020373821258545.Org Highlight count=19.\\\"}, \\\"chunk_id\\\": \\\"0\\\"}, {\\\"content\\\": \\\"of the member to ensure that pre-certification or pre-authorization is obtained prior to receiving services. Failure to obtain pre-certification or pre-authorization may result in the member being responsible for the full cost of the services.\\\\nIn summary, Northwind Health Plus provides comprehensive coverage for medical, vision, and dental services, as well as prescription drug coverage, mental health and substance abuse coverage, and coverage for preventive care services. The plan pays for covered services after the member has met the annual deductible, up to the maximum out-of-pocket limit. The plan may also pay for services that are not listed in the plan documents, if the health care provider determines that such services are medically necessary. It is important to note that all payments are subject to the terms and conditions of the plan, and that members should always check with their health care provider to determine if a service is covered under the plan and the amount that will be paid for the service.\\\\nVenue\\\\nOTHER INFORMATION ABOUT THIS PLAN\\\\nVenue\\\\nUnder the terms of Northwind Health Plus, if you or Northwind Health disagree about the terms of your coverage or benefits, \\\", \\\"id\\\": null, \\\"title\\\": \\\"Northwind_Health_Plus_Benefits_Details.pdf\\\", \\\"filepath\\\": \\\"Northwind_Health_Plus_Benefits_Details-102.pdf\\\", \\\"url\\\": \\\"Northwind_Health_Plus_Benefits_Details-102.pdf\\\", \\\"metadata\\\": {\\\"chunking\\\": \\\"orignal document size=235. Scores=0.7503063678741455 and 3.001225471496582.Org Highlight count=17.\\\"}, \\\"chunk_id\\\": \\\"0\\\"}], \\\"intent\\\": \\\"[\\\\\\\"tell me about northwind health plan\\\\\\\"]\\\"}\",\n",
      "            \"end_turn\": false\n",
      "        },\n",
      "        {\n",
      "            \"index\": 1,\n",
      "            \"role\": \"assistant\",\n",
      "            \"content\": \"Northwind Health is a health insurance plan offered by Contoso Electronics [doc1]. It provides comprehensive coverage for medical, vision, and dental services. The plan also includes prescription drug coverage, mental health and substance abuse coverage, and coverage for preventive care services. With Northwind Health, you have the option to choose from a variety of in-network providers, including primary care physicians, specialists, and hospitals [doc1]. If you have any questions or concerns about the plan, you can contact Northwind Health for assistance [doc2]. It is important to note that the plan has certain requirements, such as obtaining pre-certification or pre-authorization for services, and members should always check with their healthcare provider to determine coverage and payment details [doc3].\\n\\nPlease let me know if there's anything specific you would like to know about Northwind Health.\",\n",
      "            \"end_turn\": true\n",
      "        }\n",
      "    ]\n",
      "}\n"
     ]
    }
   ],
   "source": [
    "fprint(response.json()['choices'][0])"
   ]
  },
  {
   "cell_type": "code",
   "execution_count": 14,
   "metadata": {},
   "outputs": [
    {
     "name": "stdout",
     "output_type": "stream",
     "text": [
      "3\n"
     ]
    }
   ],
   "source": [
    "# read citations from response \n",
    "citations = []\n",
    "intent = []\n",
    "for m in response.json()['choices'][0]['messages']: \n",
    "    if m[\"role\"] == \"tool\":\n",
    "        citations = json.loads(m[\"content\"])['citations']\n",
    "        intent = json.loads(m[\"content\"])['intent']\n",
    "\n",
    "    if m[\"role\"] == \"assistant\":\n",
    "        messages[\"messages\"].append(m)\n",
    "\n",
    "print(len(citations))"
   ]
  },
  {
   "cell_type": "code",
   "execution_count": 15,
   "metadata": {},
   "outputs": [
    {
     "name": "stdout",
     "output_type": "stream",
     "text": [
      "{\n",
      "    \"content\": \"Contoso Electronics Plan and Benefit Packages\\nContoso Electronics This document contains information generated using a language model (Azure OpenAI). The information contained in this document is only for demonstration purposes and does not reflect the opinions or beliefs of Microsoft. Microsoft makes no representations or warranties of any kind, express or implied, about the completeness, accuracy, reliability, suitability or availability with respect to the information contained in this document.\\nAll rights reserved to Microsoft Welcome to Contoso Electronics! We are excited to offer our employees two comprehensive health insurance plans through Northwind Health.\\nNorthwind Health Plus\\nNorthwind Health Plus is a comprehensive plan that provides comprehensive coverage for medical, vision, and dental services. This plan also offers prescription drug coverage, mental health and substance abuse coverage, and coverage for preventive care services. With Northwind Health Plus, you can choose from a variety of in-network providers, including primary care physicians, specialists, hospitals, \",\n",
      "    \"id\": null,\n",
      "    \"title\": \"Benefit_Options.pdf\",\n",
      "    \"filepath\": \"Benefit_Options-0.pdf\",\n",
      "    \"url\": \"Benefit_Options-0.pdf\",\n",
      "    \"metadata\": {\n",
      "        \"chunking\": \"orignal document size=192. Scores=0.7840073704719543 and 3.1360294818878174.Org Highlight count=15.\"\n",
      "    },\n",
      "    \"chunk_id\": \"0\"\n",
      "}\n",
      "{\n",
      "    \"content\": \"\\n\\u2022 Contact Northwind Health if you have any questions or concerns about the evidence of medical necessity requirements for the services or treatments you are requesting.\\nBy following these tips, you can help ensure that your request for services or treatments is approved in a timely manner and that you are receiving the most appropriate care.\\nConclusion\\nEvidence of medical necessity is an important component of health insurance coverage, and it is important to understand the requirements of the Northwind Health Plus plan in order to obtain the services or treatments you need. By following the tips outlined above, you can help ensure that your request for services or treatments is approved in a timely manner and that you are receiving the most appropriate care.\\nThe Group And You\\nOTHER INFORMATION ABOUT THIS PLAN\\nThe Group and You The Northwind Health Plus plan is a group health plan that is sponsored by Contoso and administered by Northwind Health. As a participant in this group plan, you will have access to a wide range of health benefits and services.\\nYour employer, Contoso, pays a portion of the premium for the plan, and you are responsible for \",\n",
      "    \"id\": null,\n",
      "    \"title\": \"Northwind_Health_Plus_Benefits_Details.pdf\",\n",
      "    \"filepath\": \"Northwind_Health_Plus_Benefits_Details-92.pdf\",\n",
      "    \"url\": \"Northwind_Health_Plus_Benefits_Details-92.pdf\",\n",
      "    \"metadata\": {\n",
      "        \"chunking\": \"orignal document size=223. Scores=0.7550934553146362 and 3.020373821258545.Org Highlight count=19.\"\n",
      "    },\n",
      "    \"chunk_id\": \"0\"\n",
      "}\n",
      "{\n",
      "    \"content\": \"of the member to ensure that pre-certification or pre-authorization is obtained prior to receiving services. Failure to obtain pre-certification or pre-authorization may result in the member being responsible for the full cost of the services.\\nIn summary, Northwind Health Plus provides comprehensive coverage for medical, vision, and dental services, as well as prescription drug coverage, mental health and substance abuse coverage, and coverage for preventive care services. The plan pays for covered services after the member has met the annual deductible, up to the maximum out-of-pocket limit. The plan may also pay for services that are not listed in the plan documents, if the health care provider determines that such services are medically necessary. It is important to note that all payments are subject to the terms and conditions of the plan, and that members should always check with their health care provider to determine if a service is covered under the plan and the amount that will be paid for the service.\\nVenue\\nOTHER INFORMATION ABOUT THIS PLAN\\nVenue\\nUnder the terms of Northwind Health Plus, if you or Northwind Health disagree about the terms of your coverage or benefits, \",\n",
      "    \"id\": null,\n",
      "    \"title\": \"Northwind_Health_Plus_Benefits_Details.pdf\",\n",
      "    \"filepath\": \"Northwind_Health_Plus_Benefits_Details-102.pdf\",\n",
      "    \"url\": \"Northwind_Health_Plus_Benefits_Details-102.pdf\",\n",
      "    \"metadata\": {\n",
      "        \"chunking\": \"orignal document size=235. Scores=0.7503063678741455 and 3.001225471496582.Org Highlight count=17.\"\n",
      "    },\n",
      "    \"chunk_id\": \"0\"\n",
      "}\n"
     ]
    }
   ],
   "source": [
    "for c in citations:\n",
    "    fprint(c)"
   ]
  },
  {
   "cell_type": "code",
   "execution_count": 16,
   "metadata": {},
   "outputs": [
    {
     "name": "stdout",
     "output_type": "stream",
     "text": [
      "[\"tell me about northwind health plan\"]\n"
     ]
    }
   ],
   "source": [
    "print(intent)"
   ]
  },
  {
   "cell_type": "code",
   "execution_count": null,
   "metadata": {},
   "outputs": [],
   "source": []
  }
 ],
 "metadata": {
  "kernelspec": {
   "display_name": "py_openai_flask",
   "language": "python",
   "name": "python3"
  },
  "language_info": {
   "codemirror_mode": {
    "name": "ipython",
    "version": 3
   },
   "file_extension": ".py",
   "mimetype": "text/x-python",
   "name": "python",
   "nbconvert_exporter": "python",
   "pygments_lexer": "ipython3",
   "version": "3.10.0"
  },
  "orig_nbformat": 4
 },
 "nbformat": 4,
 "nbformat_minor": 2
}
