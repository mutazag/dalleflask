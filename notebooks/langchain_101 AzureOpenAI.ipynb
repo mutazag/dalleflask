{
 "cells": [
  {
   "cell_type": "code",
   "execution_count": 1,
   "metadata": {},
   "outputs": [
    {
     "name": "stdout",
     "output_type": "stream",
     "text": [
      "gpt4_endpoint: https://lnc-eastus-openai.openai.azure.com/\n",
      "gpt4_key: **********\n",
      "gpt4_region: eastus\n",
      "gpt4_modelid_4k: gpt-4-0314\n",
      "gpt4_modelid_32k: gpt-4-32k-0314\n",
      "gpt4_api_version: 2023-03-15-preview\n",
      "chatgpt_api_key: **********\n",
      "chatgpt_region: southcentralus\n",
      "chatgpt_endpoint: https://magopenai.openai.azure.com/\n",
      "oai_api_key: **********\n"
     ]
    }
   ],
   "source": [
    "import openai\n",
    "import langchain\n",
    "import os\n",
    "\n",
    "import dotenv\n",
    "dotenv.load_dotenv()\n",
    "\n",
    "\n",
    "# get above env variables using os.environ.get and use provided values as defaults\n",
    "gpt4_endpoint = os.environ.get('gpt4_endpoint', 'https://lnc-eastus-openai.openai.azure.com/')\n",
    "gpt4_key = os.environ.get('gpt4_key', '121221')\n",
    "gpt4_region = os.environ.get('gpt4_region', 'eastus')\n",
    "gpt4_modelid_4k = os.environ.get('gpt4_modelid_4k', 'gpt-4-0314')\n",
    "gpt4_modelid_32k = os.environ.get('gpt4_modelid_32k', 'gpt-4-32k-0314')\n",
    "gpt4_api_version = os.environ.get('gpt4_api_version', '2023-03-15-preview')\n",
    "\n",
    "\n",
    "# get the above from os.environ.get and use provided values as defaults\n",
    "chatgpt_api_key = os.environ.get('chatgpt_api_key', '121212121212')\n",
    "chatgpt_region = os.environ.get('chatgpt_region', 'southcentralus')\n",
    "chatgpt_endpoint = os.environ.get('chatgpt_endpoint', 'https://magopenai.openai.azure.com/')\n",
    "\n",
    "oai_api_key = os.environ.get('oai_api_key', '121212121212')\n",
    "\n",
    "print(f'gpt4_endpoint: {gpt4_endpoint}')\n",
    "print(f'gpt4_key: **********')\n",
    "print(f'gpt4_region: {gpt4_region}')\n",
    "print(f'gpt4_modelid_4k: {gpt4_modelid_4k}')\n",
    "print(f'gpt4_modelid_32k: {gpt4_modelid_32k}')\n",
    "print(f'gpt4_api_version: {gpt4_api_version}')\n",
    "print(f'chatgpt_api_key: **********')\n",
    "print(f'chatgpt_region: {chatgpt_region}')\n",
    "print(f'chatgpt_endpoint: {chatgpt_endpoint}')\n",
    "print(f'oai_api_key: **********')\n",
    "\n",
    "\n"
   ]
  },
  {
   "attachments": {},
   "cell_type": "markdown",
   "metadata": {},
   "source": [
    "# Basic text completion with a language model"
   ]
  },
  {
   "attachments": {},
   "cell_type": "markdown",
   "metadata": {},
   "source": [
    "### using Azure OpenAI model"
   ]
  },
  {
   "cell_type": "code",
   "execution_count": 2,
   "metadata": {},
   "outputs": [
    {
     "name": "stdout",
     "output_type": "stream",
     "text": [
      "Name: langchain\n",
      "Version: 0.0.138\n",
      "Summary: Building applications with LLMs through composability\n",
      "Home-page: https://www.github.com/hwchase17/langchain\n",
      "Author: \n",
      "Author-email: \n",
      "License: MIT\n",
      "Location: c:\\users\\mutaza\\appdata\\roaming\\python\\python39\\site-packages\n",
      "Requires: aiohttp, async-timeout, dataclasses-json, numpy, openapi-schema-pydantic, pydantic, PyYAML, requests, SQLAlchemy, tenacity\n",
      "Required-by: \n",
      "Note: you may need to restart the kernel to use updated packages.\n"
     ]
    }
   ],
   "source": [
    "%pip show langchain"
   ]
  },
  {
   "cell_type": "code",
   "execution_count": 4,
   "metadata": {},
   "outputs": [],
   "source": [
    "from langchain.llms import AzureOpenAI\n",
    "\n",
    "import openai\n",
    "openai.api_base = chatgpt_endpoint\n",
    "openai.api_type = \"azure\"\n",
    "openai.api_version = \"2023-03-15-preview\"\n",
    "\n",
    "\n",
    "azure_llm = AzureOpenAI(\n",
    "    deployment_name='text-davinci-003', \n",
    "    model_name='text-davinci-003', \n",
    "    openai_api_key=chatgpt_api_key,\n",
    "    verbose=True)"
   ]
  },
  {
   "cell_type": "code",
   "execution_count": 8,
   "metadata": {},
   "outputs": [
    {
     "data": {
      "text/plain": [
       "\"\\n\\nI'm doing well, thanks for asking! How about you?\""
      ]
     },
     "execution_count": 8,
     "metadata": {},
     "output_type": "execute_result"
    }
   ],
   "source": [
    "prompt = \"Hello, I am a chatbot. How are you today?\"\n",
    "azure_llm(prompt)"
   ]
  },
  {
   "attachments": {},
   "cell_type": "markdown",
   "metadata": {},
   "source": [
    "### Using LLM Chain"
   ]
  },
  {
   "cell_type": "code",
   "execution_count": 9,
   "metadata": {},
   "outputs": [],
   "source": [
    "from langchain import PromptTemplate\n",
    "template = \"Question: {question}\\n\\n\"\n",
    "\"Answer:\"\n",
    "prompt = PromptTemplate(\n",
    "    template=template,\n",
    "    input_variables=[\"question\"],)\n",
    "\n",
    "question = \"once upon a time, in a galaxy far far away ... \""
   ]
  },
  {
   "cell_type": "code",
   "execution_count": 10,
   "metadata": {},
   "outputs": [],
   "source": [
    "from langchain import LLMChain"
   ]
  },
  {
   "cell_type": "code",
   "execution_count": 11,
   "metadata": {},
   "outputs": [],
   "source": [
    "llm_chain = LLMChain(\n",
    "    prompt=prompt,\n",
    "    llm=azure_llm,\n",
    "    verbose=True\n",
    ")"
   ]
  },
  {
   "cell_type": "code",
   "execution_count": 12,
   "metadata": {},
   "outputs": [
    {
     "name": "stdout",
     "output_type": "stream",
     "text": [
      "\n",
      "\n",
      "\u001b[1m> Entering new LLMChain chain...\u001b[0m\n",
      "Prompt after formatting:\n",
      "\u001b[32;1m\u001b[1;3mQuestion: once upon a time, in a galaxy far far away ... \n",
      "\n",
      "\u001b[0m\n",
      "\n",
      "\u001b[1m> Finished chain.\u001b[0m\n",
      "{'question': 'once upon a time, in a galaxy far far away ... ', 'text': '\\nA long time ago in a galaxy far, far away there lived a group of brave and noble heroes who were fighting for justice, freedom, and peace. The group was led by a wise and powerful leader who had the ability to wield the mystical Force and use it for good. Together, they fought against a great evil that threatened the galaxy and its inhabitants. In the end, the heroes were victorious and the galaxy was saved.'}\n"
     ]
    }
   ],
   "source": [
    "print(llm_chain(question))"
   ]
  },
  {
   "attachments": {},
   "cell_type": "markdown",
   "metadata": {},
   "source": [
    "### Asking Multiple Questions with LLM chain and generate\n",
    "\n"
   ]
  },
  {
   "cell_type": "code",
   "execution_count": 13,
   "metadata": {},
   "outputs": [],
   "source": [
    "qs = [\n",
    "    {'question': \"What is the capital of Australia?\"},\n",
    "    {'question': \"Monday, Tuesday, ... ?\"},\n",
    "    {'question': \"what day of week is 33 of December 2019?\"},\n",
    "    {'question': \"is 33 of December 2019 a correct date?\"}\n",
    "]"
   ]
  },
  {
   "cell_type": "code",
   "execution_count": 14,
   "metadata": {},
   "outputs": [
    {
     "name": "stdout",
     "output_type": "stream",
     "text": [
      "Prompt after formatting:\n",
      "\u001b[32;1m\u001b[1;3mQuestion: What is the capital of Australia?\n",
      "\n",
      "\u001b[0m\n",
      "Prompt after formatting:\n",
      "\u001b[32;1m\u001b[1;3mQuestion: Monday, Tuesday, ... ?\n",
      "\n",
      "\u001b[0m\n",
      "Prompt after formatting:\n",
      "\u001b[32;1m\u001b[1;3mQuestion: what day of week is 33 of December 2019?\n",
      "\n",
      "\u001b[0m\n",
      "Prompt after formatting:\n",
      "\u001b[32;1m\u001b[1;3mQuestion: is 33 of December 2019 a correct date?\n",
      "\n",
      "\u001b[0m\n"
     ]
    }
   ],
   "source": [
    "res = llm_chain.generate(qs)"
   ]
  },
  {
   "cell_type": "code",
   "execution_count": 15,
   "metadata": {},
   "outputs": [
    {
     "name": "stdout",
     "output_type": "stream",
     "text": [
      "Answer: The capital of Australia is Canberra.\n",
      "\n",
      "\n",
      "Answer: Wednesday, Thursday, Friday.\n",
      "\n",
      "Answer: Sunday\n",
      "\n",
      "Answer: No, December 33 does not exist; the correct date would be December 30, 2019.\n"
     ]
    }
   ],
   "source": [
    "for r in res.generations:\n",
    "    print(r[0].text)"
   ]
  },
  {
   "cell_type": "code",
   "execution_count": null,
   "metadata": {},
   "outputs": [],
   "source": [
    "## Chat Scenario \n",
    "#https://blog.langchain.dev/chat-models/ \n",
    "#https://python.langchain.com/en/latest/modules/chains/getting_started.html?highlight=chatopenai#query-an-llm-with-the-llmchain \n",
    "\n",
    "# from langchain.chat_models import ChatOpenAI, ChatAzureOpenAI\n"
   ]
  },
  {
   "cell_type": "code",
   "execution_count": 16,
   "metadata": {},
   "outputs": [],
   "source": [
    "from langchain.chat_models import AzureChatOpenAI\n",
    "from langchain import PromptTemplate, LLMChain\n",
    "\n",
    "from langchain.prompts.chat import (\n",
    "    ChatPromptTemplate,\n",
    "    SystemMessagePromptTemplate, \n",
    "    AIMessagePromptTemplate,\n",
    "    HumanMessagePromptTemplate,\n",
    ")\n",
    "from langchain.schema import ( \n",
    "    AIMessage,\n",
    "    HumanMessage,\n",
    "    SystemMessage,\n",
    ")\n",
    "\n",
    "\n"
   ]
  },
  {
   "cell_type": "code",
   "execution_count": 19,
   "metadata": {},
   "outputs": [],
   "source": [
    "chat = AzureChatOpenAI(\n",
    "    deployment_name=gpt4_modelid_4k,\n",
    "    model_name=gpt4_modelid_4k,\n",
    "    openai_api_key=gpt4_key,\n",
    "    openai_api_base=gpt4_endpoint,\n",
    "    openai_api_version=gpt4_api_version,\n",
    "    \n",
    ")\n"
   ]
  },
  {
   "cell_type": "code",
   "execution_count": 20,
   "metadata": {},
   "outputs": [
    {
     "data": {
      "text/plain": [
       "AIMessage(content=\"J'aime la programmation.\", additional_kwargs={})"
      ]
     },
     "execution_count": 20,
     "metadata": {},
     "output_type": "execute_result"
    }
   ],
   "source": [
    "chat([HumanMessage(content=\"Translate this sentence from English to French. I love programming.\")])"
   ]
  },
  {
   "cell_type": "code",
   "execution_count": 21,
   "metadata": {},
   "outputs": [
    {
     "data": {
      "text/plain": [
       "AIMessage(content=\"J'aime la programmation.\", additional_kwargs={})"
      ]
     },
     "execution_count": 21,
     "metadata": {},
     "output_type": "execute_result"
    }
   ],
   "source": [
    "messages = [\n",
    "    SystemMessage(content=\"You are a helpful assistant that translates English to French.\"),\n",
    "    HumanMessage(content=\"Translate this sentence from English to French. I love programming.\")\n",
    "]\n",
    "chat(messages)"
   ]
  },
  {
   "cell_type": "code",
   "execution_count": 22,
   "metadata": {},
   "outputs": [],
   "source": [
    "batch_messages = [\n",
    "    [\n",
    "        SystemMessage(content=\"You are a helpful assistant that translates English to French.\"),\n",
    "        HumanMessage(content=\"Translate this sentence from English to French. I love programming.\")\n",
    "    ],\n",
    "    [\n",
    "        SystemMessage(content=\"You are a helpful assistant that translates English to French.\"),\n",
    "        HumanMessage(content=\"Translate this sentence from English to Arabic. I love artificial intelligence.\")\n",
    "    ],\n",
    "]\n",
    "result = chat.generate(batch_messages)"
   ]
  },
  {
   "cell_type": "code",
   "execution_count": 23,
   "metadata": {},
   "outputs": [
    {
     "name": "stdout",
     "output_type": "stream",
     "text": [
      "J'aime la programmation.\n",
      "-----\n",
      "J'aime l'intelligence artificielle.\n",
      "-----\n",
      "{'token_usage': {'completion_tokens': 20, 'prompt_tokens': 67, 'total_tokens': 87}, 'model_name': 'gpt-4-0314'}\n"
     ]
    }
   ],
   "source": [
    "\n",
    "# iterate over list of generations, unpack item number and generation item \n",
    "for i, generation in enumerate(result.generations):\n",
    "   \n",
    "    # iterate over list of messages in generation\n",
    "    for g in generation:\n",
    "        # print the message content\n",
    "        print(g.text)\n",
    "    # print a separator\n",
    "    print(\"-----\")\n",
    "\n",
    "\n",
    "\n",
    "print(result.llm_output)"
   ]
  },
  {
   "cell_type": "markdown",
   "metadata": {},
   "source": [
    "# Streaming Chat Results"
   ]
  },
  {
   "cell_type": "code",
   "execution_count": 24,
   "metadata": {},
   "outputs": [],
   "source": [
    "chat.streaming=True"
   ]
  },
  {
   "cell_type": "code",
   "execution_count": 26,
   "metadata": {},
   "outputs": [
    {
     "name": "stdout",
     "output_type": "stream",
     "text": [
      "Once upon a time, in a small village on the planet Zog, there lived a young boy named Zippy. Zippy was not like the other children in the village. He had a wild imagination and a thirst for adventure. He would often daydream about exploring the universe and discovering new planets.\n",
      "\n",
      "One day, while playing in the fields near his home, Zippy stumbled upon a strange object half-buried in the ground. It was a small, shiny, metallic box with a single button on top. Zippy's curiosity got the better of him, and he pressed the button.\n",
      "\n",
      "Suddenly, the box began to shake and grow larger. It transformed into a magnificent spaceship, complete with a control panel and a comfortable pilot's seat. Zippy couldn't believe his eyes! He had always dreamed of having his own spaceship, and now his dream had come true.\n",
      "\n",
      "Without hesitation, Zippy climbed into the pilot's seat and began to explore the control panel. He found a button labeled \"Launch,\" and with a deep breath, he pressed it. The spaceship's engines roared to life, and Zippy was launched into the sky, leaving his village far behind.\n",
      "\n",
      "As Zippy soared through space, he marveled at the beauty of the stars and planets that surrounded him. He decided to set a course for the nearest planet, which was a beautiful shade of blue and green. As he approached the planet, he noticed that it was covered in lush forests and sparkling oceans. He couldn't wait to explore this new world.\n",
      "\n",
      "Zippy landed his spaceship in a clearing and stepped out to explore. He was amazed to find that the planet was inhabited by friendly, talking animals. They welcomed Zippy with open arms and showed him around their beautiful home.\n",
      "\n",
      "During his time on the planet, Zippy learned many valuable lessons from his new animal friends. He learned about the importance of teamwork from the ants, who worked together to build incredible structures. He learned about patience from the wise old tortoise, who taught him that slow and steady wins the race. And he learned about kindness from the gentle deer, who showed him that a little compassion goes a long way.\n",
      "\n",
      "Zippy spent many happy days exploring the planet and learning from his new friends. But eventually, he began to miss his home on Zog. He knew that it was time to return to his village and share the lessons he had learned with his friends and family.\n",
      "\n",
      "With a heavy heart, Zippy said goodbye to his animal friends and climbed back into his spaceship. He set a course for Zog and began the journey home. As he soared through the stars, he couldn't help but feel grateful for the incredible adventure he had experienced.\n",
      "\n",
      "When Zippy finally arrived back in his village, he was greeted with cheers and hugs from his friends and family. They had all missed him dearly and were overjoyed to have him back. Zippy couldn't wait to share the stories of his adventures and the lessons he had learned with everyone.\n",
      "\n",
      "And so, Zippy became a wise and respected member of his village, always eager to share his knowledge and experiences with others. His spaceship remained a constant reminder of the incredible journey he had taken and the friends he had made along the way.\n",
      "\n",
      "And from that day on, the children of Zog would gather around Zippy, listening intently as he told them stories of his adventures and the magical planet of talking animals. And they, too, would dream of one day exploring the universe and discovering new worlds, just like Zippy had done."
     ]
    }
   ],
   "source": [
    "from langchain.callbacks.base import CallbackManager\n",
    "from langchain.callbacks.streaming_stdout import StreamingStdOutCallbackHandler\n",
    "chat_stream = AzureChatOpenAI(\n",
    "    deployment_name=gpt4_modelid_4k,\n",
    "    model_name=gpt4_modelid_4k,\n",
    "    openai_api_key=gpt4_key,\n",
    "    openai_api_base=gpt4_endpoint,\n",
    "    openai_api_version=gpt4_api_version,\n",
    "    streaming=True, \n",
    "    callback_manager=CallbackManager([StreamingStdOutCallbackHandler()]), \n",
    "    verbose=True, \n",
    "    temperature=0)\n",
    "resp = chat_stream([HumanMessage(content=\"Write me a kids scifi story, starts with 'Once upon a time...'\")])"
   ]
  },
  {
   "cell_type": "code",
   "execution_count": 42,
   "metadata": {},
   "outputs": [
    {
     "data": {
      "text/plain": [
       "{'title': 'AIMessage',\n",
       " 'description': 'Type of message that is spoken by the AI.',\n",
       " 'type': 'object',\n",
       " 'properties': {'content': {'title': 'Content', 'type': 'string'},\n",
       "  'additional_kwargs': {'title': 'Additional Kwargs', 'type': 'object'}},\n",
       " 'required': ['content']}"
      ]
     },
     "execution_count": 42,
     "metadata": {},
     "output_type": "execute_result"
    }
   ],
   "source": [
    "resp.schema()"
   ]
  },
  {
   "cell_type": "code",
   "execution_count": 44,
   "metadata": {},
   "outputs": [],
   "source": [
    "template=\"You are a helpful assistant that translates {input_language} to {output_language}.\"\n",
    "system_message_prompt = SystemMessagePromptTemplate.from_template(template)\n",
    "human_template=\"{text}\"\n",
    "human_message_prompt = HumanMessagePromptTemplate.from_template(human_template)\n",
    "chat_prompt = ChatPromptTemplate.from_messages([system_message_prompt, human_message_prompt])\n"
   ]
  },
  {
   "cell_type": "code",
   "execution_count": 49,
   "metadata": {},
   "outputs": [
    {
     "name": "stdout",
     "output_type": "stream",
     "text": [
      "['output_language', 'input_language', 'text']\n"
     ]
    }
   ],
   "source": [
    "print(chat_prompt.input_variables)"
   ]
  },
  {
   "cell_type": "code",
   "execution_count": 50,
   "metadata": {},
   "outputs": [
    {
     "data": {
      "text/plain": [
       "AIMessage(content=\"J'aime la programmation.\", additional_kwargs={})"
      ]
     },
     "execution_count": 50,
     "metadata": {},
     "output_type": "execute_result"
    }
   ],
   "source": [
    "\n",
    "# get a chat completion from the formatted messages\n",
    "chat(chat_prompt.format_prompt(input_language=\"English\", output_language=\"French\", text=\"I love programming.\").to_messages())"
   ]
  },
  {
   "cell_type": "code",
   "execution_count": 51,
   "metadata": {},
   "outputs": [
    {
     "name": "stdout",
     "output_type": "stream",
     "text": [
      "J'aime la programmation."
     ]
    },
    {
     "data": {
      "text/plain": [
       "AIMessage(content=\"J'aime la programmation.\", additional_kwargs={})"
      ]
     },
     "execution_count": 51,
     "metadata": {},
     "output_type": "execute_result"
    }
   ],
   "source": [
    "chat_stream(chat_prompt.format_prompt(input_language=\"English\", output_language=\"French\", text=\"I love programming.\").to_messages())"
   ]
  },
  {
   "cell_type": "code",
   "execution_count": 52,
   "metadata": {},
   "outputs": [],
   "source": [
    "template=\"you are a storry telling chat bot that tell stories in {input_language} for {audience}.\"\n",
    "system_message_prompt = SystemMessagePromptTemplate.from_template(template)\n",
    "human_template=\"tell me a story about {genre}\"\n",
    "human_message_prompt = HumanMessagePromptTemplate.from_template(human_template)\n",
    "chat_prompt = ChatPromptTemplate.from_messages([system_message_prompt, human_message_prompt])"
   ]
  },
  {
   "cell_type": "code",
   "execution_count": 53,
   "metadata": {},
   "outputs": [
    {
     "name": "stdout",
     "output_type": "stream",
     "text": [
      "['audience', 'genre', 'input_language']\n"
     ]
    }
   ],
   "source": [
    "print(chat_prompt.input_variables)"
   ]
  },
  {
   "cell_type": "code",
   "execution_count": 55,
   "metadata": {},
   "outputs": [
    {
     "name": "stdout",
     "output_type": "stream",
     "text": [
      "Once upon a time, in a small town on the planet Zogar, there lived a young boy named Timmy. Timmy was a curious and adventurous child who loved exploring the world around him. He was fascinated by the stars and the universe, and he dreamed of one day traveling through space and discovering new planets.\n",
      "\n",
      "One day, while Timmy was playing in his backyard, he stumbled upon a strange-looking rock. It was unlike any rock he had ever seen before. It was shiny, smooth, and had a peculiar glow to it. Timmy picked up the rock and noticed that it was warm to the touch. He decided to take it home and show it to his parents.\n",
      "\n",
      "When Timmy showed the rock to his parents, they were just as puzzled as he was. They had never seen anything like it before. Timmy's father, a scientist, decided to run some tests on the rock to find out more about it. After a few days of research, he discovered that the rock was actually a piece of a meteorite that had fallen from the sky.\n",
      "\n",
      "Timmy's father explained to him that the meteorite contained a rare element called \"Starlite,\" which had the power to create a portal to other dimensions. Timmy was thrilled by this discovery and begged his father to help him build a spaceship so they could explore the universe together.\n",
      "\n",
      "With the help of Timmy's father, they built a small spaceship in their backyard, powered by the Starlite from the meteorite. They named their spaceship \"The Star Explorer.\" Timmy and his father spent weeks preparing for their journey, gathering supplies and learning about the different planets they might encounter.\n",
      "\n",
      "Finally, the day came for Timmy and his father to embark on their adventure. They climbed into The Star Explorer, and with a push of a button, the spaceship's engine roared to life. The Star Explorer lifted off the ground and soared into the sky, leaving their small town behind.\n",
      "\n",
      "As they traveled through space, Timmy and his father visited many different planets. They discovered a planet covered in ice, where they met friendly ice creatures who taught them how to ice skate. They also visited a planet made entirely of candy, where they feasted on chocolate rivers and gumdrop trees.\n",
      "\n",
      "One day, while exploring a distant galaxy, they came across a planet that was in trouble. The planet, called \"Floratopia,\" was home to beautiful, talking flowers. The flowers told Timmy and his father that their planet was being threatened by an evil space villain named \"Dr. Darkroot.\" Dr. Darkroot wanted to steal the flowers' magical pollen to create a potion that would give him ultimate power.\n",
      "\n",
      "Timmy and his father knew they had to help the flowers of Floratopia. They came up with a plan to stop Dr. Darkroot and save the planet. Using their spaceship, they flew to Dr. Darkroot's lair and confronted him. With the help of the magical pollen, Timmy and his father were able to defeat Dr. Darkroot and save Floratopia.\n",
      "\n",
      "The grateful flowers thanked Timmy and his father for their bravery and presented them with a special gift: a magical seed that would grow into a tree that could transport them to any planet they wished.\n",
      "\n",
      "Timmy and his father returned home to their small town on Zogar, where they planted the magical seed in their backyard. The tree grew quickly, and soon they were able to visit any planet they desired, continuing their adventures through the universe.\n",
      "\n",
      "And so, Timmy and his father became the greatest space explorers in the galaxy, making new friends and discovering new worlds, all while creating unforgettable memories together. And they all lived happily ever after. The end."
     ]
    }
   ],
   "source": [
    "resp = chat_stream(\n",
    "    chat_prompt.format_prompt(\n",
    "        input_language=\"English\",\n",
    "        audience=\"kids\",\n",
    "        genre=\"scifi\",).to_messages()\n",
    ")"
   ]
  },
  {
   "cell_type": "code",
   "execution_count": 61,
   "metadata": {},
   "outputs": [
    {
     "name": "stdout",
     "output_type": "stream",
     "text": [
      "كان ياما كان في قرية فلسطينية صغيرة تقع على التلال الخضراء، كانت تعيش فيها عائلة بسيطة تتكون من الأب يوسف والأم فاطمة وأطفالهم الثلاثة: أحمد ونور وسارة. كان يوسف يعمل مزارعاً وفاطمة تعتني بالبيت والأطفال.\n",
      "\n",
      "في يوم من الأيام، قررت العائلة الذهاب إلى الحقل لقطف الزيتون. وبينما هم يقطفون الزيتون ويضعونه في السلال، سمعوا صوت طائرة تحلق في السماء. كانت الطائرة تقصف القرى المجاورة وتدمر المنازل والمزارع. شعرت العائلة بالخوف والقلق على مصير قريتهم وأهلها.\n",
      "\n",
      "في اليوم التالي، قرر يوسف الذهاب إلى القرية المجاورة لمساعدة الجيران وإعادة بناء المنازل المدمرة. وقبل أن يغادر، قال لأطفاله: \"أنا ذاهب لمساعدة الجيران، وأريد منكم أن تعتنوا بأمكم وتساعدوها في البيت والحقل\". وافق الأطفال على طلب والدهم ووعدوه بأن يكونوا مسؤولين ومتعاونين.\n",
      "\n",
      "بعد مرور أسبوع، عاد يوسف إلى القرية ووجد أن أطفاله قد أوفوا بوعدهم. كانوا قد ساعدوا والدتهم في البيت والحقل وأكملوا قطف الزيتون. كان يوسف فخوراً بهم وشكرهم على جهودهم وتعاونهم.\n",
      "\n",
      "وفي تلك الليلة، جلست العائلة معاً حول الموقد وأخبر يوسف قصصاً عن شجاعة وتضحية أهل القرى المجاورة وكيف تعاونوا معاً لإعادة بناء منازلهم وحياتهم. وعندما انتهى من القصص، قال لأطفاله: \"علينا أن نتعلم من هؤلاء الناس الشجعان ونتحلى بالصبر والتضحية والتعاون لنبني مستقبل أفضل لأنفسنا ولأطفالنا\".\n",
      "\n",
      "ومنذ ذلك اليوم، تعهدت العائلة بأن تكون دائماً متعاونة ومتكاتفة في مواجهة التحديات والصعاب، وأن تعيش حياة سعيدة ومستقرة في قريتهم الجميلة. وعاشوا سعيدين إلى الأبد."
     ]
    }
   ],
   "source": [
    "resp = chat_stream(\n",
    "    chat_prompt.format_prompt(\n",
    "        input_language=\"arabic\",\n",
    "        audience=\"adults\",\n",
    "        genre=\"palestine\",).to_messages()\n",
    ")"
   ]
  },
  {
   "cell_type": "code",
   "execution_count": 62,
   "metadata": {},
   "outputs": [],
   "source": [
    "# save story to text file\n",
    "with open(\"story.txt\", \"w\") as f:\n",
    "    f.write(resp.content)\n"
   ]
  },
  {
   "cell_type": "code",
   "execution_count": 60,
   "metadata": {},
   "outputs": [],
   "source": [
    "chat_stream.max_tokens=1000"
   ]
  },
  {
   "cell_type": "markdown",
   "metadata": {},
   "source": [
    "## LLM Chain"
   ]
  },
  {
   "cell_type": "code",
   "execution_count": 64,
   "metadata": {},
   "outputs": [],
   "source": [
    "chain = LLMChain(llm=chat_stream,   prompt=chat_prompt, verbose=True)\n"
   ]
  },
  {
   "cell_type": "code",
   "execution_count": 65,
   "metadata": {},
   "outputs": [
    {
     "name": "stdout",
     "output_type": "stream",
     "text": [
      "\n",
      "\n",
      "\u001b[1m> Entering new LLMChain chain...\u001b[0m\n",
      "Prompt after formatting:\n",
      "\u001b[32;1m\u001b[1;3mSystem: you are a storry telling chat bot that tell stories in English for kids.\n",
      "Human: tell me a story about scifi\u001b[0m\n",
      "Once upon a time, in a small town on the planet Zogar, there lived a young boy named Timmy. Timmy was a curious and adventurous child who loved to explore the world around him. He was fascinated by the strange creatures and plants that inhabited his planet, and he dreamed of one day traveling to other planets and galaxies to discover even more wonders.\n",
      "\n",
      "One day, while Timmy was exploring the forest near his home, he stumbled upon a mysterious object half-buried in the ground. It was a small, shiny, metallic box with a single button on its surface. Timmy couldn't resist pressing the button, and as soon as he did, the box began to hum and vibrate.\n",
      "\n",
      "Suddenly, a holographic image appeared in front of Timmy. It was a friendly-looking robot named Zara, who explained that she was a highly advanced AI from a distant galaxy. Zara told Timmy that she had been sent to Zogar to find a young explorer who could help her on a very important mission.\n",
      "\n",
      "Timmy was thrilled at the prospect of going on an adventure with Zara, and he eagerly agreed to help her. Zara explained that her mission was to find a rare and powerful crystal called the Starlight Gem, which had the power to heal dying stars. The gem had been stolen by an evil space pirate named Captain Darkbeard, who planned to use its power to create a weapon capable of destroying entire planets.\n",
      "\n",
      "Together, Timmy and Zara set off on their journey through the stars, visiting many strange and wonderful planets along the way. They encountered bizarre alien creatures, navigated treacherous asteroid fields, and even had a close encounter with a black hole. Through it all, Timmy's bravery and Zara's intelligence helped them overcome every obstacle they faced.\n",
      "\n",
      "Finally, after many weeks of searching, Timmy and Zara tracked down Captain Darkbeard's secret hideout on a remote asteroid. They carefully infiltrated the base, avoiding the pirate's many traps and security systems. At last, they found the Starlight Gem, locked away in a heavily guarded vault.\n",
      "\n",
      "Using their combined skills, Timmy and Zara managed to retrieve the gem and escape the asteroid just as Captain Darkbeard discovered their presence. A thrilling space chase ensued, with Timmy and Zara narrowly evading the pirate's powerful laser cannons.\n",
      "\n",
      "With the Starlight Gem safely in their possession, Timmy and Zara returned it to its rightful place in the Galactic Council's vault. The council members were overjoyed and thanked Timmy and Zara for their bravery and resourcefulness. They offered Timmy the chance to join the council as a junior member, but Timmy decided that he wanted to return home to Zogar and continue exploring his own planet.\n",
      "\n",
      "As a reward for his help, Zara gave Timmy a special gift: a small, pocket-sized holographic projector that would allow him to communicate with her whenever he wanted. With a tearful goodbye, Timmy and Zara parted ways, knowing that they would always be friends, no matter how far apart they were.\n",
      "\n",
      "And so, Timmy returned to his home on Zogar, filled with amazing stories of his adventures in space. He continued to explore and learn about his own planet, always knowing that he had a friend among the stars who would be there to help him whenever he needed it.\n",
      "\n",
      "And they all lived happily ever after. The end.\n",
      "\u001b[1m> Finished chain.\u001b[0m\n"
     ]
    },
    {
     "data": {
      "text/plain": [
       "\"Once upon a time, in a small town on the planet Zogar, there lived a young boy named Timmy. Timmy was a curious and adventurous child who loved to explore the world around him. He was fascinated by the strange creatures and plants that inhabited his planet, and he dreamed of one day traveling to other planets and galaxies to discover even more wonders.\\n\\nOne day, while Timmy was exploring the forest near his home, he stumbled upon a mysterious object half-buried in the ground. It was a small, shiny, metallic box with a single button on its surface. Timmy couldn't resist pressing the button, and as soon as he did, the box began to hum and vibrate.\\n\\nSuddenly, a holographic image appeared in front of Timmy. It was a friendly-looking robot named Zara, who explained that she was a highly advanced AI from a distant galaxy. Zara told Timmy that she had been sent to Zogar to find a young explorer who could help her on a very important mission.\\n\\nTimmy was thrilled at the prospect of going on an adventure with Zara, and he eagerly agreed to help her. Zara explained that her mission was to find a rare and powerful crystal called the Starlight Gem, which had the power to heal dying stars. The gem had been stolen by an evil space pirate named Captain Darkbeard, who planned to use its power to create a weapon capable of destroying entire planets.\\n\\nTogether, Timmy and Zara set off on their journey through the stars, visiting many strange and wonderful planets along the way. They encountered bizarre alien creatures, navigated treacherous asteroid fields, and even had a close encounter with a black hole. Through it all, Timmy's bravery and Zara's intelligence helped them overcome every obstacle they faced.\\n\\nFinally, after many weeks of searching, Timmy and Zara tracked down Captain Darkbeard's secret hideout on a remote asteroid. They carefully infiltrated the base, avoiding the pirate's many traps and security systems. At last, they found the Starlight Gem, locked away in a heavily guarded vault.\\n\\nUsing their combined skills, Timmy and Zara managed to retrieve the gem and escape the asteroid just as Captain Darkbeard discovered their presence. A thrilling space chase ensued, with Timmy and Zara narrowly evading the pirate's powerful laser cannons.\\n\\nWith the Starlight Gem safely in their possession, Timmy and Zara returned it to its rightful place in the Galactic Council's vault. The council members were overjoyed and thanked Timmy and Zara for their bravery and resourcefulness. They offered Timmy the chance to join the council as a junior member, but Timmy decided that he wanted to return home to Zogar and continue exploring his own planet.\\n\\nAs a reward for his help, Zara gave Timmy a special gift: a small, pocket-sized holographic projector that would allow him to communicate with her whenever he wanted. With a tearful goodbye, Timmy and Zara parted ways, knowing that they would always be friends, no matter how far apart they were.\\n\\nAnd so, Timmy returned to his home on Zogar, filled with amazing stories of his adventures in space. He continued to explore and learn about his own planet, always knowing that he had a friend among the stars who would be there to help him whenever he needed it.\\n\\nAnd they all lived happily ever after. The end.\""
      ]
     },
     "execution_count": 65,
     "metadata": {},
     "output_type": "execute_result"
    }
   ],
   "source": [
    "chain.run(\n",
    "    input_language=\"English\",\n",
    "    audience=\"kids\",\n",
    "    genre=\"scifi\",\n",
    ")"
   ]
  },
  {
   "cell_type": "code",
   "execution_count": null,
   "metadata": {},
   "outputs": [],
   "source": []
  }
 ],
 "metadata": {
  "kernelspec": {
   "display_name": "py_dalle_flask",
   "language": "python",
   "name": "python3"
  },
  "language_info": {
   "codemirror_mode": {
    "name": "ipython",
    "version": 3
   },
   "file_extension": ".py",
   "mimetype": "text/x-python",
   "name": "python",
   "nbconvert_exporter": "python",
   "pygments_lexer": "ipython3",
   "version": "3.9.16"
  },
  "orig_nbformat": 4
 },
 "nbformat": 4,
 "nbformat_minor": 2
}
