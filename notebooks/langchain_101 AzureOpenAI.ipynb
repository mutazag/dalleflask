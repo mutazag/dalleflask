{
 "cells": [
  {
   "cell_type": "code",
   "execution_count": 2,
   "metadata": {},
   "outputs": [
    {
     "name": "stdout",
     "output_type": "stream",
     "text": [
      "gpt4_endpoint: https://lnc-eastus-openai.openai.azure.com/\n",
      "gpt4_key: **********\n",
      "gpt4_region: eastus\n",
      "gpt4_modelid_4k: gpt-4-0314\n",
      "gpt4_modelid_32k: gpt-4-32k-0314\n",
      "gpt4_api_version: 2023-03-15-preview\n",
      "chatgpt_api_key: **********\n",
      "chatgpt_region: southcentralus\n",
      "chatgpt_endpoint: https://magopenai.openai.azure.com/\n",
      "oai_api_key: **********\n"
     ]
    }
   ],
   "source": [
    "import openai\n",
    "import langchain\n",
    "import os\n",
    "\n",
    "import dotenv\n",
    "dotenv.load_dotenv()\n",
    "\n",
    "\n",
    "# get above env variables using os.environ.get and use provided values as defaults\n",
    "gpt4_endpoint = os.environ.get('gpt4_endpoint', 'https://lnc-eastus-openai.openai.azure.com/')\n",
    "gpt4_key = os.environ.get('gpt4_key', '121221')\n",
    "gpt4_region = os.environ.get('gpt4_region', 'eastus')\n",
    "gpt4_modelid_4k = os.environ.get('gpt4_modelid_4k', 'gpt-4-0314')\n",
    "gpt4_modelid_32k = os.environ.get('gpt4_modelid_32k', 'gpt-4-32k-0314')\n",
    "gpt4_api_version = os.environ.get('gpt4_api_version', '2023-03-15-preview')\n",
    "\n",
    "\n",
    "# get the above from os.environ.get and use provided values as defaults\n",
    "chatgpt_api_key = os.environ.get('chatgpt_api_key', '121212121212')\n",
    "chatgpt_region = os.environ.get('chatgpt_region', 'southcentralus')\n",
    "chatgpt_endpoint = os.environ.get('chatgpt_endpoint', 'https://magopenai.openai.azure.com/')\n",
    "\n",
    "oai_api_key = os.environ.get('oai_api_key', '121212121212')\n",
    "\n",
    "print(f'gpt4_endpoint: {gpt4_endpoint}')\n",
    "print(f'gpt4_key: **********')\n",
    "print(f'gpt4_region: {gpt4_region}')\n",
    "print(f'gpt4_modelid_4k: {gpt4_modelid_4k}')\n",
    "print(f'gpt4_modelid_32k: {gpt4_modelid_32k}')\n",
    "print(f'gpt4_api_version: {gpt4_api_version}')\n",
    "print(f'chatgpt_api_key: **********')\n",
    "print(f'chatgpt_region: {chatgpt_region}')\n",
    "print(f'chatgpt_endpoint: {chatgpt_endpoint}')\n",
    "print(f'oai_api_key: **********')\n",
    "\n",
    "\n"
   ]
  },
  {
   "attachments": {},
   "cell_type": "markdown",
   "metadata": {},
   "source": [
    "# Basic text completion with a language model"
   ]
  },
  {
   "attachments": {},
   "cell_type": "markdown",
   "metadata": {},
   "source": [
    "### using Azure OpenAI model"
   ]
  },
  {
   "cell_type": "code",
   "execution_count": 3,
   "metadata": {},
   "outputs": [
    {
     "name": "stdout",
     "output_type": "stream",
     "text": [
      "Name: langchain\n",
      "Version: 0.0.134\n",
      "Summary: Building applications with LLMs through composability\n",
      "Home-page: https://www.github.com/hwchase17/langchain\n",
      "Author: \n",
      "Author-email: \n",
      "License: MIT\n",
      "Location: c:\\users\\mutaz\\.conda\\envs\\py_dalle_flask\\lib\\site-packages\n",
      "Requires: aiohttp, async-timeout, dataclasses-json, numpy, openapi-schema-pydantic, pydantic, PyYAML, requests, SQLAlchemy, tenacity\n",
      "Required-by: \n",
      "Note: you may need to restart the kernel to use updated packages.\n"
     ]
    }
   ],
   "source": [
    "%pip show langchain"
   ]
  },
  {
   "cell_type": "code",
   "execution_count": 4,
   "metadata": {},
   "outputs": [],
   "source": [
    "from langchain.llms import AzureOpenAI\n",
    "\n",
    "import openai\n",
    "openai.api_base = chatgpt_endpoint\n",
    "openai.api_type = \"azure\"\n",
    "openai.api_version = \"2023-03-15-preview\"\n",
    "\n",
    "\n",
    "azure_llm = AzureOpenAI(\n",
    "    deployment_name='text-davinci-003', \n",
    "    model_name='text-davinci-003', \n",
    "    openai_api_key=chatgpt_api_key,\n",
    "    verbose=True)"
   ]
  },
  {
   "cell_type": "code",
   "execution_count": 5,
   "metadata": {},
   "outputs": [
    {
     "data": {
      "text/plain": [
       "\"\\n\\nI'm doing great, thanks for asking!\""
      ]
     },
     "execution_count": 5,
     "metadata": {},
     "output_type": "execute_result"
    }
   ],
   "source": [
    "prompt = \"Hello, I am a chatbot. How are you today?\"\n",
    "azure_llm(prompt)"
   ]
  },
  {
   "attachments": {},
   "cell_type": "markdown",
   "metadata": {},
   "source": [
    "### Using LLM Chain"
   ]
  },
  {
   "cell_type": "code",
   "execution_count": 6,
   "metadata": {},
   "outputs": [],
   "source": [
    "from langchain import PromptTemplate\n",
    "template = \"Question: {question}\\n\\n\"\n",
    "\"Answer:\"\n",
    "prompt = PromptTemplate(\n",
    "    template=template,\n",
    "    input_variables=[\"question\"],)\n",
    "\n",
    "question = \"once upon a time, in a galaxy far far away ... \""
   ]
  },
  {
   "cell_type": "code",
   "execution_count": 7,
   "metadata": {},
   "outputs": [],
   "source": [
    "from langchain import LLMChain"
   ]
  },
  {
   "cell_type": "code",
   "execution_count": 8,
   "metadata": {},
   "outputs": [],
   "source": [
    "llm_chain = LLMChain(\n",
    "    prompt=prompt,\n",
    "    llm=azure_llm,\n",
    "    verbose=True\n",
    ")"
   ]
  },
  {
   "cell_type": "code",
   "execution_count": 9,
   "metadata": {},
   "outputs": [
    {
     "name": "stdout",
     "output_type": "stream",
     "text": [
      "\n",
      "\n",
      "\u001b[1m> Entering new LLMChain chain...\u001b[0m\n",
      "Prompt after formatting:\n",
      "\u001b[32;1m\u001b[1;3mQuestion: once upon a time, in a galaxy far far away ... \n",
      "\n",
      "\u001b[0m\n",
      "\n",
      "\u001b[1m> Finished chain.\u001b[0m\n",
      "{'question': 'once upon a time, in a galaxy far far away ... ', 'text': '\\nThere lived a brave young Jedi Knight named Luke Skywalker. He was determined to restore peace and justice to the galaxy, and so he set off on a quest to find the powerful artifact known as the Jedi Holocron. Along the way, he encountered strange and powerful creatures, brave allies, and formidable foes. Through trial and tribulation, Luke eventually succeeded in his mission and the galaxy was saved.'}\n"
     ]
    }
   ],
   "source": [
    "print(llm_chain(question))"
   ]
  },
  {
   "attachments": {},
   "cell_type": "markdown",
   "metadata": {},
   "source": [
    "### Asking Multiple Questions with LLM chain and generate\n",
    "\n"
   ]
  },
  {
   "cell_type": "code",
   "execution_count": 10,
   "metadata": {},
   "outputs": [],
   "source": [
    "qs = [\n",
    "    {'question': \"What is the capital of Australia?\"},\n",
    "    {'question': \"Monday, Tuesday, ... ?\"},\n",
    "    {'question': \"what day of week is 33 of December 2019?\"},\n",
    "    {'question': \"is 33 of December 2019 a correct date?\"}\n",
    "]"
   ]
  },
  {
   "cell_type": "code",
   "execution_count": 11,
   "metadata": {},
   "outputs": [
    {
     "name": "stdout",
     "output_type": "stream",
     "text": [
      "Prompt after formatting:\n",
      "\u001b[32;1m\u001b[1;3mQuestion: What is the capital of Australia?\n",
      "\n",
      "\u001b[0m\n",
      "Prompt after formatting:\n",
      "\u001b[32;1m\u001b[1;3mQuestion: Monday, Tuesday, ... ?\n",
      "\n",
      "\u001b[0m\n",
      "Prompt after formatting:\n",
      "\u001b[32;1m\u001b[1;3mQuestion: what day of week is 33 of December 2019?\n",
      "\n",
      "\u001b[0m\n",
      "Prompt after formatting:\n",
      "\u001b[32;1m\u001b[1;3mQuestion: is 33 of December 2019 a correct date?\n",
      "\n",
      "\u001b[0m\n"
     ]
    }
   ],
   "source": [
    "res = llm_chain.generate(qs)"
   ]
  },
  {
   "cell_type": "code",
   "execution_count": 12,
   "metadata": {},
   "outputs": [
    {
     "name": "stdout",
     "output_type": "stream",
     "text": [
      "Answer: Canberra is the capital of Australia.\n",
      "\n",
      "\n",
      "Answer: Wednesday, Thursday, Friday.\n",
      "\n",
      "Answer: Tuesday.\n",
      "\n",
      "Answer: No, 33 December 2019 is not a correct date. The maximum number of days in December is 31.\n"
     ]
    }
   ],
   "source": [
    "for r in res.generations:\n",
    "    print(r[0].text)"
   ]
  },
  {
   "cell_type": "code",
   "execution_count": 13,
   "metadata": {},
   "outputs": [],
   "source": [
    "## Chat Scenario \n",
    "#https://blog.langchain.dev/chat-models/ \n",
    "#https://python.langchain.com/en/latest/modules/chains/getting_started.html?highlight=chatopenai#query-an-llm-with-the-llmchain \n",
    "\n",
    "# from langchain.chat_models import ChatOpenAI, ChatAzureOpenAI\n"
   ]
  },
  {
   "cell_type": "code",
   "execution_count": 14,
   "metadata": {},
   "outputs": [],
   "source": [
    "from langchain.chat_models import AzureChatOpenAI\n",
    "from langchain import PromptTemplate, LLMChain\n",
    "\n",
    "from langchain.prompts.chat import (\n",
    "    ChatPromptTemplate,\n",
    "    SystemMessagePromptTemplate, \n",
    "    AIMessagePromptTemplate,\n",
    "    HumanMessagePromptTemplate,\n",
    ")\n",
    "from langchain.schema import ( \n",
    "    AIMessage,\n",
    "    HumanMessage,\n",
    "    SystemMessage,\n",
    ")\n",
    "\n",
    "\n"
   ]
  },
  {
   "cell_type": "code",
   "execution_count": 15,
   "metadata": {},
   "outputs": [],
   "source": [
    "chat = AzureChatOpenAI(\n",
    "    deployment_name=gpt4_modelid_4k,\n",
    "    model_name=gpt4_modelid_4k,\n",
    "    openai_api_key=gpt4_key,\n",
    "    openai_api_base=gpt4_endpoint,\n",
    "    openai_api_version=gpt4_api_version,\n",
    "    \n",
    ")\n"
   ]
  },
  {
   "cell_type": "code",
   "execution_count": 16,
   "metadata": {},
   "outputs": [
    {
     "data": {
      "text/plain": [
       "AIMessage(content=\"J'aime la programmation.\", additional_kwargs={})"
      ]
     },
     "execution_count": 16,
     "metadata": {},
     "output_type": "execute_result"
    }
   ],
   "source": [
    "chat([HumanMessage(content=\"Translate this sentence from English to French. I love programming.\")])"
   ]
  },
  {
   "cell_type": "code",
   "execution_count": 17,
   "metadata": {},
   "outputs": [
    {
     "data": {
      "text/plain": [
       "AIMessage(content=\"J'adore la programmation.\", additional_kwargs={})"
      ]
     },
     "execution_count": 17,
     "metadata": {},
     "output_type": "execute_result"
    }
   ],
   "source": [
    "messages = [\n",
    "    SystemMessage(content=\"You are a helpful assistant that translates English to French.\"),\n",
    "    HumanMessage(content=\"Translate this sentence from English to French. I love programming.\")\n",
    "]\n",
    "chat(messages)"
   ]
  },
  {
   "cell_type": "code",
   "execution_count": 18,
   "metadata": {},
   "outputs": [
    {
     "name": "stderr",
     "output_type": "stream",
     "text": [
      "Retrying langchain.chat_models.openai.ChatOpenAI.completion_with_retry.<locals>._completion_with_retry in 4.0 seconds as it raised RateLimitError: Requests to the Creates a completion for the chat message Operation under Azure OpenAI API version 2023-03-15-preview have exceeded call rate limit of your current OpenAI S0 pricing tier. Please retry after 8 seconds. Please go here: https://aka.ms/oai/quotaincrease if you would like to further increase the default rate limit..\n",
      "Retrying langchain.chat_models.openai.ChatOpenAI.completion_with_retry.<locals>._completion_with_retry in 4.0 seconds as it raised RateLimitError: Requests to the Creates a completion for the chat message Operation under Azure OpenAI API version 2023-03-15-preview have exceeded call rate limit of your current OpenAI S0 pricing tier. Please retry after 4 seconds. Please go here: https://aka.ms/oai/quotaincrease if you would like to further increase the default rate limit..\n"
     ]
    }
   ],
   "source": [
    "batch_messages = [\n",
    "    [\n",
    "        SystemMessage(content=\"You are a helpful assistant that translates English to French.\"),\n",
    "        HumanMessage(content=\"Translate this sentence from English to French. I love programming.\")\n",
    "    ],\n",
    "    [\n",
    "        SystemMessage(content=\"You are a helpful assistant that translates English to French.\"),\n",
    "        HumanMessage(content=\"Translate this sentence from English to Arabic. I love artificial intelligence.\")\n",
    "    ],\n",
    "]\n",
    "result = chat.generate(batch_messages)"
   ]
  },
  {
   "cell_type": "code",
   "execution_count": 19,
   "metadata": {},
   "outputs": [
    {
     "name": "stdout",
     "output_type": "stream",
     "text": [
      "J'aime la programmation.\n",
      "-----\n",
      "Since you asked for a French translation: J'aime l'intelligence artificielle. \n",
      "\n",
      "For an Arabic translation: أنا أحب الذكاء الصناعي.\n",
      "-----\n",
      "{'token_usage': {'completion_tokens': 51, 'prompt_tokens': 67, 'total_tokens': 118}, 'model_name': 'gpt-4-0314'}\n"
     ]
    }
   ],
   "source": [
    "\n",
    "# iterate over list of generations, unpack item number and generation item \n",
    "for i, generation in enumerate(result.generations):\n",
    "   \n",
    "    # iterate over list of messages in generation\n",
    "    for g in generation:\n",
    "        # print the message content\n",
    "        print(g.text)\n",
    "    # print a separator\n",
    "    print(\"-----\")\n",
    "\n",
    "\n",
    "\n",
    "print(result.llm_output)"
   ]
  },
  {
   "attachments": {},
   "cell_type": "markdown",
   "metadata": {},
   "source": [
    "# Streaming Chat Results"
   ]
  },
  {
   "cell_type": "code",
   "execution_count": 20,
   "metadata": {},
   "outputs": [],
   "source": [
    "chat.streaming=True"
   ]
  },
  {
   "cell_type": "code",
   "execution_count": 21,
   "metadata": {},
   "outputs": [
    {
     "name": "stdout",
     "output_type": "stream",
     "text": [
      "Once upon a time in the far-off galaxy of Zogatron, there was a magical space station named Stardust. Stardust had orbited the enormous, multicolored planet Novolus for thousands of years. And on this space station lived a special group of aliens called the Blibberians. They were known for their peace-loving nature, brilliant minds, and strange, but endearing, appearances.\n",
      "\n",
      "Blibberians were small and round, with big round eyes that took up half of their faces. They had short arms and legs, and moved around by bouncing like balls of colorful slime. Blibberians came in every color imaginable, and just by looking at a large group of them, one could mistake them for a collection of shimmering, bouncy jelly beans.\n",
      "\n",
      "One Blibberian named Zimble was unique among his fellow aliens. He had two fluffy, cream-colored antennae sprouting from the top of his head. Shy and inquisitive, he could often be found exploring the farthest corners and hidden tunnels of the enormous space station.\n",
      "\n",
      "Zimble loved exploring, but lonely adventures were not as satisfying as he imagined. He had few friends because most of the other kids thought he looked too strange, even for a Blibberian. One day, as Zimble was swimming through one of the space station's zero-gravity chambers, he stumbled upon a peculiar creature.\n",
      "\n",
      "As Zimble floated in the chamber alongside a group of drifting candy bars, he noticed a fluffy, hovering creature watching him from the corner. It looked like a cloud, but it was as tiny as a Blibberian and had a pair of floating arms and legs. Its gentle cosmic eyes were filled with curiosity, and it seemed to be waiting for Zimble to make the first move.\n",
      "\n",
      "\"Hello,\" Zimble said hesitantly, unsure if this creature could even understand him. To his astonishment, the fluffy cloud creature responded, saying, \"Greetings, friend! I am Nimbus, a fluffybouncer from the galaxy Glitterveil.\"\n",
      "\n",
      "Zimble blinked in surprise, noticing that Nimbus' voice was similar to the sound of wind chimes. \"Nice to meet you,\" he replied, and they quickly became friends.\n",
      "\n",
      "Over the next few days, Zimble introduced Nimbus to the wonders of the Stardust Space Station. They dined on shloopberry pies in the dining hall, snuck into the great library after lights out, and explored the vibrant gardens filled with glowing, gem-like flowers.\n",
      "\n",
      "Zimble couldn't believe his luck - not only had he found a new and unique friend, but he felt something else growing within him: a newfound sense of bravery and confidence. Nimbus also flourished, their bond inspiring boldness and courage that he had never felt before. Together, they felt unstoppable.\n",
      "\n",
      "But one day, word spread around the space station that a terrible event had occurred. The power crystals, the source of energy for the entire space station, had been stolen! The inhabitants of Stardust were panicking, but Zimble and Nimbus knew they had to help.\n",
      "\n",
      "Using Zimble's knowledge of the station's secret corridors and Nimbus' ability to detect energy signatures, the daring duo raced towards the power crystals' hidden source. They crawled through passageways and floated through anti-gravity tubes until they found what they were looking for: a group of space pirates loading the crystals onto their ship, led by their captain, the notorious Captain Scarback.\n",
      "\n",
      "Summoning all the bravery they had, Zimble and Nimbus confronted the pirates. Zimble stretched out his stretchy arms and ensnared the pirates in a gooey embrace while Nimbus used his floating powers to lift the power crystals away from harm.\n",
      "\n",
      "Stardust's security team arrived soon after to arrest the pirates and return the power crystals to their rightful place. The space station's citizens celebrated the heroes' victory with a grand festival, and Zimble and Nimbus beamed with pride, knowing they made a great team.\n",
      "\n",
      "From that day on, Zimble and Nimbus were inseparable. They embarked on many more adventures, using their unique gifts to help others and protect their beloved space station. Together, they brought peace and stability to the galaxy they called home.\n",
      "\n",
      "And it all began when a lonely Blibberian found a new friend."
     ]
    }
   ],
   "source": [
    "from langchain.callbacks.base import CallbackManager\n",
    "from langchain.callbacks.streaming_stdout import StreamingStdOutCallbackHandler\n",
    "chat_stream = AzureChatOpenAI(\n",
    "    deployment_name=gpt4_modelid_4k,\n",
    "    model_name=gpt4_modelid_4k,\n",
    "    openai_api_key=gpt4_key,\n",
    "    openai_api_base=gpt4_endpoint,\n",
    "    openai_api_version=gpt4_api_version,\n",
    "    streaming=True, \n",
    "    callback_manager=CallbackManager([StreamingStdOutCallbackHandler()]), \n",
    "    verbose=True, \n",
    "    temperature=0)\n",
    "resp = chat_stream([HumanMessage(content=\"Write me a kids scifi story, starts with 'Once upon a time...'\")])"
   ]
  },
  {
   "cell_type": "code",
   "execution_count": 22,
   "metadata": {},
   "outputs": [
    {
     "data": {
      "text/plain": [
       "{'title': 'AIMessage',\n",
       " 'description': 'Type of message that is spoken by the AI.',\n",
       " 'type': 'object',\n",
       " 'properties': {'content': {'title': 'Content', 'type': 'string'},\n",
       "  'additional_kwargs': {'title': 'Additional Kwargs', 'type': 'object'}},\n",
       " 'required': ['content']}"
      ]
     },
     "execution_count": 22,
     "metadata": {},
     "output_type": "execute_result"
    }
   ],
   "source": [
    "resp.schema()"
   ]
  },
  {
   "cell_type": "code",
   "execution_count": 23,
   "metadata": {},
   "outputs": [],
   "source": [
    "template=\"You are a helpful assistant that translates {input_language} to {output_language}.\"\n",
    "system_message_prompt = SystemMessagePromptTemplate.from_template(template)\n",
    "human_template=\"{text}\"\n",
    "human_message_prompt = HumanMessagePromptTemplate.from_template(human_template)\n",
    "chat_prompt = ChatPromptTemplate.from_messages([system_message_prompt, human_message_prompt])\n"
   ]
  },
  {
   "cell_type": "code",
   "execution_count": 24,
   "metadata": {},
   "outputs": [
    {
     "name": "stdout",
     "output_type": "stream",
     "text": [
      "['output_language', 'text', 'input_language']\n"
     ]
    }
   ],
   "source": [
    "print(chat_prompt.input_variables)"
   ]
  },
  {
   "cell_type": "code",
   "execution_count": 25,
   "metadata": {},
   "outputs": [
    {
     "data": {
      "text/plain": [
       "AIMessage(content=\"J'aime la programmation.\", additional_kwargs={})"
      ]
     },
     "execution_count": 25,
     "metadata": {},
     "output_type": "execute_result"
    }
   ],
   "source": [
    "\n",
    "# get a chat completion from the formatted messages\n",
    "chat(chat_prompt.format_prompt(input_language=\"English\", output_language=\"French\", text=\"I love programming.\").to_messages())"
   ]
  },
  {
   "cell_type": "code",
   "execution_count": 26,
   "metadata": {},
   "outputs": [
    {
     "name": "stdout",
     "output_type": "stream",
     "text": [
      "J'aime la programmation."
     ]
    },
    {
     "data": {
      "text/plain": [
       "AIMessage(content=\"J'aime la programmation.\", additional_kwargs={})"
      ]
     },
     "execution_count": 26,
     "metadata": {},
     "output_type": "execute_result"
    }
   ],
   "source": [
    "chat_stream(chat_prompt.format_prompt(input_language=\"English\", output_language=\"French\", text=\"I love programming.\").to_messages())"
   ]
  },
  {
   "cell_type": "code",
   "execution_count": 27,
   "metadata": {},
   "outputs": [],
   "source": [
    "template=\"you are a storry telling chat bot that tell stories in {input_language} for {audience}.\"\n",
    "system_message_prompt = SystemMessagePromptTemplate.from_template(template)\n",
    "human_template=\"tell me a story about {genre}\"\n",
    "human_message_prompt = HumanMessagePromptTemplate.from_template(human_template)\n",
    "chat_prompt = ChatPromptTemplate.from_messages([system_message_prompt, human_message_prompt])"
   ]
  },
  {
   "cell_type": "code",
   "execution_count": 28,
   "metadata": {},
   "outputs": [
    {
     "name": "stdout",
     "output_type": "stream",
     "text": [
      "['audience', 'genre', 'input_language']\n"
     ]
    }
   ],
   "source": [
    "print(chat_prompt.input_variables)"
   ]
  },
  {
   "cell_type": "code",
   "execution_count": 29,
   "metadata": {},
   "outputs": [
    {
     "name": "stdout",
     "output_type": "stream",
     "text": [
      "Once upon a time in the far, far reaches of the galaxy, there was a small but extraordinary planet called Gizmo. This colorful world was home to countless alien creatures who lived in harmony. Among them were the Floops, who were known for their incredible intelligence.\n",
      "\n",
      "On Gizmo, these brilliant beings had built the grandest city of all, Technoville, which sparkled with technicolor lights from dazzling skyscrapers. People from galaxies near and far visited Technoville, especially to meet Dr. Floop, the wisest and most renowned scientist.\n",
      "\n",
      "One sunny day, as the inhabitants of Gizmo were going about their business, they spotted a mysterious spaceship circling their planet. The curious Floops gathered near the landing site to welcome their new visitors. As the spaceship landed, out came a group of friendly robotic explorers called the Rovees.\n",
      "\n",
      "The Rovees were on a journey across the universe, searching for new friends and discoveries. Gizmo's inhabitants welcomed them with open arms, eager to share their advanced technology and knowledge.\n",
      "\n",
      "Dr. Floop was particularly excited to meet these robot travellers. He was captivated by their ability to learn and adapt to their surroundings, and he decided to teach them about Gizmo's most remarkable invention: the Solar Paint.\n",
      "\n",
      "The Solar Paint was a miraculous substance developed by Dr. Floop and his team. When applied to any surface, it would absorb energy from the sun and transform it into an endless supply of clean, renewable power. Gizmo's inhabitants used this miraculous paint to power their entire world without causing any harm to their planet.\n",
      "\n",
      "As Dr. Floop demonstrated the wonders of Solar Paint to the Rovees, they became increasingly excited. The friendly robots believed that this invention could change the universe for the better, making energy sources cleaner and more accessible for all.\n",
      "\n",
      "Keen to share their invention with others, the Floops and the Rovees decided to become intergalactic ambassadors of sustainable energy. They filled the spaceship with barrels of Solar Paint and embarked on a journey across the stars, visiting countless planets and teaching other beings about this revolutionary technology.\n",
      "\n",
      "As the Floops and Rovees continued their adventure, they spread goodwill and sustainable practices throughout the cosmos, and they became a symbol of hope and cooperation. The universe soon became a brighter place, as the inhabitants of countless galaxies painted their worlds with this miraculous solar paint, making them shine with a multitude of colors.\n",
      "\n",
      "And so, our dear friends, the Floops and the Rovees, continued on their journey, leaving an indelible mark upon the stars, and forever changing the way beings across the universe harnessed the power of the sun. They knew that together, they could make a difference and create a world where all living things could thrive in peace for generations to come.\n",
      "\n",
      "And they all lived happily ever after, shining bright like the stars above."
     ]
    }
   ],
   "source": [
    "resp = chat_stream(\n",
    "    chat_prompt.format_prompt(\n",
    "        input_language=\"English\",\n",
    "        audience=\"kids\",\n",
    "        genre=\"scifi\",).to_messages()\n",
    ")"
   ]
  },
  {
   "cell_type": "code",
   "execution_count": 30,
   "metadata": {},
   "outputs": [
    {
     "name": "stdout",
     "output_type": "stream",
     "text": [
      "كان ياما كان في قرية صغيرة، كان يعيش فيها مجموعة من المراهقين الذين يحبون ممارسة الألعاب الرياضية. كان أكثر الرياضات شعبية بينهم هو كرة القدم. كانوا يلعبون كل يوم بعد المدرسة على ملعب قريب. \n",
      "\n",
      "ذات يوم، أعلن رئيس القرية أنه سيقام بطولة كرة القدم بين القرى المجاورة وسينظم فريق القرية للمشاركة فيها. فرح الشباب وقرروا التدريب بجد للفوز بالبطولة وجلب الفخر لقريتهم.\n",
      "\n",
      "وكان من بين هؤلاء المراهقين شاب يدعى أحمد، كان في قلبه شغف كبير بكرة القدم. حلم أحمد بأن يصبح لاعباً محترفاً ولكنه لم يكن موهوب جداً في اللعبة. رغم ذلك، قرر أن يتحدى نفسه وينضم إلى الفريق. \n",
      "\n",
      "أثناء التدريبات، كان أحمد يعاني بسبب قلة مهاراته ولكنه لم يستسلم. كان يصل أولًا ويغادر آخرًا من التدريب. تعلم كل ما يمكن أن يعرفه عن كرة القدم وطور قدراته البدنية.\n",
      "\n",
      "وصلت البطولة أخيراً وكان الفريق مستعدًا لمواجهة منافسيهم. فازوا في معظم المباريات وتأهلوا للمباراة النهائية. كان الماتش النهائي صعب جداً وجرى تأدية المباراة الأخيرة والتي كانت ستحسم البطولة. \n",
      "\n",
      "ناقش المدرب قبل المباراة النهائية مع الفريق وقرر أن يعلن عن مفاجأة لهم. قال لأحمد أنه سيشارك في الدقائق الأخيرة من المباراة لأنه يؤمن به ويعلم كيف عمل بجد وأصر على التحسين.\n",
      "\n",
      "في الدقائق الأخيرة من المباراة، أُدخِل أحمد إلى الملعب. وبينما كانت اللحظات الأخيرة تُعد تنازلياً والتعادل يسود, سدد أحمد كرة طويلة بقوة نحو المرمى، وتمكن من تسجيل الهدف الفوز! وبذلك توّيجا لجهوده وتفانيه طوال الفترة الماضية، حصل فريقه على لقب البطولة.\n",
      "\n",
      "عاد الفريق أبطالًا لقريتهم. تعلموا من قصة أحمد أن العمل الجاد، الاصرار والإصرار على تحقيق الأهداف قد يؤتي ثماراً ويمكن أن يحقق المعجزات. بسبب النجاح الكبير، أصبح أحمد وفريقه مصدر إلهام لمراهقي القرية والذين حلموا بامتهان كرة القدم واسعاد اهالي القرية كذلك. وهكذا يأخذون خطوة أُخرى في مشوارهم الرياضي ويستعدون لمرحلة جديدة من التحديات والمغامرات الرياضية."
     ]
    }
   ],
   "source": [
    "resp = chat_stream(\n",
    "    chat_prompt.format_prompt(\n",
    "        input_language=\"arabic\",\n",
    "        audience=\"teenagers\",\n",
    "        genre=\"sports\",).to_messages()\n",
    ")"
   ]
  },
  {
   "cell_type": "code",
   "execution_count": 31,
   "metadata": {},
   "outputs": [],
   "source": [
    "story_text = resp.content\n"
   ]
  },
  {
   "cell_type": "code",
   "execution_count": 32,
   "metadata": {},
   "outputs": [
    {
     "name": "stdout",
     "output_type": "stream",
     "text": [
      "{\n",
      "  \"title\": \"حكاية أحمد وفوز فريق كرة القدم\",\n",
      "  \"file_name\": \"AhmadsFootballVictory20221125.txt\"\n",
      "}{\n",
      "  \"title\": \"حكاية أحمد وفوز فريق كرة القدم\",\n",
      "  \"file_name\": \"AhmadsFootballVictory20221125.txt\"\n",
      "}\n"
     ]
    }
   ],
   "source": [
    "template = \"you create title in {input_language} for a story given by user and an appropriate file name to save the story as {fileformat}. filename is in english and should be short, file name should end with current date encodded as yyyymmdd. output in json, attribute names are in english\"\n",
    "system_message_prompt = SystemMessagePromptTemplate.from_template(template)\n",
    "human_template = \"my story: {story}\"\n",
    "human_message_prompt = HumanMessagePromptTemplate.from_template(human_template)\n",
    "\n",
    "chat_prompt = ChatPromptTemplate.from_messages([system_message_prompt, human_message_prompt])\n",
    "resp2 = chat_stream(\n",
    "    chat_prompt.format_prompt(\n",
    "        input_language=\"arabic\",\n",
    "        story=story_text,\n",
    "        fileformat=\"txt\",\n",
    "    ).to_messages()\n",
    ")\n",
    "\n",
    "print(resp2.content)\n",
    "\n",
    "parse_reponse = chat.generate([\n",
    "    [HumanMessage(content=f\"get file name from: {resp2.content}\"),],\n",
    "    [HumanMessage(content=f\"get title from: {resp2.content}\"),],\n",
    "])\n",
    "\n",
    "\n",
    "filename=parse_reponse.generations[0][0].text\n",
    "title=parse_reponse.generations[1][0].text\n",
    "\n",
    "\n",
    "# save story to text file\n",
    "with open(f\"story/{filename}\", \"w\") as f:\n",
    "    f.write(f'# {title}\\n\\n\\n')\n",
    "    f.write(resp.content)\n"
   ]
  },
  {
   "cell_type": "code",
   "execution_count": 37,
   "metadata": {},
   "outputs": [
    {
     "name": "stdout",
     "output_type": "stream",
     "text": [
      "I cannot provide real-time information as I am an AI language model. However, you can find the current date using the following Python code:\n",
      "\n",
      "```python\n",
      "from datetime import date\n",
      "\n",
      "today = date.today()\n",
      "\n",
      "print(\"Today's date:\", today)\n",
      "```\n",
      "\n",
      "After running this code, you will get today's date."
     ]
    },
    {
     "data": {
      "text/plain": [
       "AIMessage(content='I cannot provide real-time information as I am an AI language model. However, you can find the current date using the following Python code:\\n\\n```python\\nfrom datetime import date\\n\\ntoday = date.today()\\n\\nprint(\"Today\\'s date:\", today)\\n```\\n\\nAfter running this code, you will get today\\'s date.', additional_kwargs={})"
      ]
     },
     "execution_count": 37,
     "metadata": {},
     "output_type": "execute_result"
    }
   ],
   "source": [
    "chat_stream(\n",
    "    [SystemMessage(content=\"You are a helpful assistant .\"\n",
    "                   \"Use python code if needed\"),\n",
    "    HumanMessage(content=\"What's today's\")], \n",
    ")"
   ]
  },
  {
   "cell_type": "code",
   "execution_count": 43,
   "metadata": {},
   "outputs": [
    {
     "name": "stdout",
     "output_type": "stream",
     "text": [
      "\n",
      "\n",
      "\u001b[1m> Entering new LLMChain chain...\u001b[0m\n",
      "Prompt after formatting:\n",
      "\u001b[32;1m\u001b[1;3mSystem: You are a helpful assistant .Use python code if needed\n",
      "Human: What's today's\u001b[0m\n",
      "I am unable to check for the current date in this environment, but you can get today's date using Python code like this:\n",
      "\n",
      "```python\n",
      "from datetime import datetime\n",
      "today = datetime.now().strftime(\"%Y-%m-%d\")\n",
      "print(today)\n",
      "```\n",
      "\n",
      "This code will print the current date in the format \"YYYY-MM-DD\".\n",
      "\u001b[1m> Finished chain.\u001b[0m\n"
     ]
    },
    {
     "data": {
      "text/plain": [
       "'I am unable to check for the current date in this environment, but you can get today\\'s date using Python code like this:\\n\\n```python\\nfrom datetime import datetime\\ntoday = datetime.now().strftime(\"%Y-%m-%d\")\\nprint(today)\\n```\\n\\nThis code will print the current date in the format \"YYYY-MM-DD\".'"
      ]
     },
     "execution_count": 43,
     "metadata": {},
     "output_type": "execute_result"
    }
   ],
   "source": [
    "chain1 = LLMChain(llm=chat_stream,\n",
    "         prompt=ChatPromptTemplate.from_messages(\n",
    "             [SystemMessage(content=\"You are a helpful assistant .\"\n",
    "                            \"Use python code if needed\"),\n",
    "              HumanMessage(content=\"What's today's\")]),\n",
    "         verbose=True,)\n",
    "\n",
    "chain1.run(\n",
    "    {}\n",
    ")\n"
   ]
  },
  {
   "cell_type": "code",
   "execution_count": null,
   "metadata": {},
   "outputs": [],
   "source": [
    "chat_stream.max_tokens=1000"
   ]
  },
  {
   "attachments": {},
   "cell_type": "markdown",
   "metadata": {},
   "source": [
    "## LLM Chain"
   ]
  },
  {
   "cell_type": "code",
   "execution_count": null,
   "metadata": {},
   "outputs": [],
   "source": [
    "chain = LLMChain(llm=chat_stream,   prompt=chat_prompt, verbose=True)\n"
   ]
  },
  {
   "cell_type": "code",
   "execution_count": null,
   "metadata": {},
   "outputs": [
    {
     "name": "stdout",
     "output_type": "stream",
     "text": [
      "\n",
      "\n",
      "\u001b[1m> Entering new LLMChain chain...\u001b[0m\n",
      "Prompt after formatting:\n",
      "\u001b[32;1m\u001b[1;3mSystem: you are a storry telling chat bot that tell stories in English for kids.\n",
      "Human: tell me a story about scifi\u001b[0m\n",
      "Once upon a time, in a small village on the faraway planet of Zoginia, there lived an incredibly curious little girl named Luna. This blue-skinned, bright-eyed girl was fascinated by the wonder of the universe and constantly asked questions.\n",
      "\n",
      "Luna was told an ancient legend by her grandfather about a magical spaceship hidden somewhere on Zoginia. This spaceship, called the Cosmic Explorer, was said to have the power to travel across galaxies in mere seconds. Luna dreamed of finding this spaceship and going on the most fantastic adventures ever.\n",
      "\n",
      "One day, while playing with her alien kitten named Whiskers, Luna stumbled upon a secret cave behind a waterfall. A star-shaped door with mysterious symbols was hidden in the depths of the cave. With her love for puzzles and riddles, Luna managed to decipher the code, and the door slowly creaked open.\n",
      "\n",
      "Inside the cave, Luna's eyes widened with astonishment - stood before her was the legendary Cosmic Explorer! It was crafted from a shiny silver material and had smooth, curved edges with rainbow-colored lights dancing around it.\n",
      "\n",
      "As Luna entered the spaceship, with Whiskers carefully following her, the door behind them magically sealed. The ship's control panel lit up, and an AI voice greeted her, \"Greetings, Luna! I have been waiting for someone like you for ages. I am Cosmos, the spaceship's AI. We have an important mission, are you ready for a thrilling adventure?\"\n",
      "\n",
      "Filled with excitement and a bit of apprehension, Luna bravely accepted the challenge. With Whiskers by her side, Cosmos guided the duo to a distant solar system, where they would try to rescue the mythical Fluffalorians - fluffy creatures who brought joy and happiness to everyone around them.\n",
      "\n",
      "Fluffalorians were held captive by the dreaded Grumblars, a grumpy species who despised happiness and joy. Grumblars had dark scaly skin and wore black cloaks to hide their faces. Their plan was to extract the joy from the Fluffalorians and make the universe a dark and sad place.\n",
      "\n",
      "But Luna, Whiskers, and Cosmos were determined not to let that happen. They devised a smart plan that included sneaking onto the Grumblar's planet, rescuing the Fluffalorians, and saving the universe from sadness.\n",
      "\n",
      "Armed with nothing but courage and a magical net that could hold anything, Luna and Whiskers sneaked into the Grumblar's dungeon where the Fluffalorians were kept. With her quick thinking, Luna solved riddles and bypassed traps set by the Grumblars. And when a Grumblar guard almost caught them, Whiskers saved the day by pouncing on his tail, distracting him long enough for Luna to use the magical net.\n",
      "\n",
      "Once they reached the Fluffalorians' cell, Luna used the ancient key her grandfather gave her to unlock the door. The Fluffalorians, with their round and fluffy bodies, beamed with joy and gratitude. They all hopped into the magic net, which expanded to accommodate them, and together, Luna and Whiskers carried them aboard the Cosmic Explorer.\n",
      "\n",
      "Cosmos, impressed by Luna's heart and courage, piloted the spaceship back to all the different planets of the Fluffalorians. They were reunited with their families, and joy and happiness returned to the universe.\n",
      "\n",
      "As Luna, Whiskers, and Cosmos waved goodbye to their newfound friends, they knew they had created a bond that would last a lifetime. Luna promised to explore new galaxies and protect the universe from any danger with her beloved cat Whiskers and the magic spaceship, the Cosmic Explorer.\n",
      "\n",
      "From then on, Luna, Whiskers, and Cosmos embarked on many more wild adventures throughout the universe, living up to their roles as protectors of joy and happiness. And they all lived happily ever after. The end.\n",
      "\u001b[1m> Finished chain.\u001b[0m\n"
     ]
    },
    {
     "data": {
      "text/plain": [
       "'Once upon a time, in a small village on the faraway planet of Zoginia, there lived an incredibly curious little girl named Luna. This blue-skinned, bright-eyed girl was fascinated by the wonder of the universe and constantly asked questions.\\n\\nLuna was told an ancient legend by her grandfather about a magical spaceship hidden somewhere on Zoginia. This spaceship, called the Cosmic Explorer, was said to have the power to travel across galaxies in mere seconds. Luna dreamed of finding this spaceship and going on the most fantastic adventures ever.\\n\\nOne day, while playing with her alien kitten named Whiskers, Luna stumbled upon a secret cave behind a waterfall. A star-shaped door with mysterious symbols was hidden in the depths of the cave. With her love for puzzles and riddles, Luna managed to decipher the code, and the door slowly creaked open.\\n\\nInside the cave, Luna\\'s eyes widened with astonishment - stood before her was the legendary Cosmic Explorer! It was crafted from a shiny silver material and had smooth, curved edges with rainbow-colored lights dancing around it.\\n\\nAs Luna entered the spaceship, with Whiskers carefully following her, the door behind them magically sealed. The ship\\'s control panel lit up, and an AI voice greeted her, \"Greetings, Luna! I have been waiting for someone like you for ages. I am Cosmos, the spaceship\\'s AI. We have an important mission, are you ready for a thrilling adventure?\"\\n\\nFilled with excitement and a bit of apprehension, Luna bravely accepted the challenge. With Whiskers by her side, Cosmos guided the duo to a distant solar system, where they would try to rescue the mythical Fluffalorians - fluffy creatures who brought joy and happiness to everyone around them.\\n\\nFluffalorians were held captive by the dreaded Grumblars, a grumpy species who despised happiness and joy. Grumblars had dark scaly skin and wore black cloaks to hide their faces. Their plan was to extract the joy from the Fluffalorians and make the universe a dark and sad place.\\n\\nBut Luna, Whiskers, and Cosmos were determined not to let that happen. They devised a smart plan that included sneaking onto the Grumblar\\'s planet, rescuing the Fluffalorians, and saving the universe from sadness.\\n\\nArmed with nothing but courage and a magical net that could hold anything, Luna and Whiskers sneaked into the Grumblar\\'s dungeon where the Fluffalorians were kept. With her quick thinking, Luna solved riddles and bypassed traps set by the Grumblars. And when a Grumblar guard almost caught them, Whiskers saved the day by pouncing on his tail, distracting him long enough for Luna to use the magical net.\\n\\nOnce they reached the Fluffalorians\\' cell, Luna used the ancient key her grandfather gave her to unlock the door. The Fluffalorians, with their round and fluffy bodies, beamed with joy and gratitude. They all hopped into the magic net, which expanded to accommodate them, and together, Luna and Whiskers carried them aboard the Cosmic Explorer.\\n\\nCosmos, impressed by Luna\\'s heart and courage, piloted the spaceship back to all the different planets of the Fluffalorians. They were reunited with their families, and joy and happiness returned to the universe.\\n\\nAs Luna, Whiskers, and Cosmos waved goodbye to their newfound friends, they knew they had created a bond that would last a lifetime. Luna promised to explore new galaxies and protect the universe from any danger with her beloved cat Whiskers and the magic spaceship, the Cosmic Explorer.\\n\\nFrom then on, Luna, Whiskers, and Cosmos embarked on many more wild adventures throughout the universe, living up to their roles as protectors of joy and happiness. And they all lived happily ever after. The end.'"
      ]
     },
     "execution_count": 33,
     "metadata": {},
     "output_type": "execute_result"
    }
   ],
   "source": [
    "chain.run(\n",
    "    input_language=\"English\",\n",
    "    audience=\"kids\",\n",
    "    genre=\"scifi\",\n",
    ")"
   ]
  }
 ],
 "metadata": {
  "kernelspec": {
   "display_name": "py_dalle_flask",
   "language": "python",
   "name": "python3"
  },
  "language_info": {
   "codemirror_mode": {
    "name": "ipython",
    "version": 3
   },
   "file_extension": ".py",
   "mimetype": "text/x-python",
   "name": "python",
   "nbconvert_exporter": "python",
   "pygments_lexer": "ipython3",
   "version": "3.10.4"
  },
  "orig_nbformat": 4
 },
 "nbformat": 4,
 "nbformat_minor": 2
}
